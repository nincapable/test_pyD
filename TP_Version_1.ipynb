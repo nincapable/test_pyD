{
 "cells": [
  {
   "cell_type": "markdown",
   "metadata": {},
   "source": [
    "# Rapport de modélisation des dynamiques du monde"
   ]
  },
  {
   "cell_type": "markdown",
   "metadata": {},
   "source": [
    "## Bienvenus.es"
   ]
  },
  {
   "cell_type": "markdown",
   "metadata": {},
   "source": [
    "Si vous lisez ceci, c'est que vous venez de prendre vos fonctions d'assistants de recherche. Au labo tournesol nous travaillons à modéliser les principales dynamiques qui régissent le monde industrialisé, pour tenter de fournir une vision plus englobante et plus précise des avenirs potentiels, probables ou souhaitables. Nous réussi à reimplementer le modèle World3, mais n'avons pas encore eu le temps d'explorer suffisament pour être certains des codépendances entre les facteurs de ce modèle. Notre laboratoire à été missionné par l'ONU, pour proposer une politique globale concernant : \n",
    "- l'agro-écologie \n",
    "- l'approche décroissante\n",
    "    \n",
    "Votre mission: Choisir un des deux sujet et explorer les dépendances entre les facteurs et proposer avec les autres equipe une politique visant une forme d'équilibre que vous jugerez souhaitable.\n",
    "Evidemment vous trouverez dans la suite des explications sur le modèle ainsi qu'un exemple concernant l'abondance des ressources naturelles sur lequel nous avons pu travailler.\n",
    "Bon courage, et surtout, n'oubliez pas, il s'agit d'un modèle, il n'y a donc pas de bonne réponse. Nous comptons sur vous pour expérimenter et comprendre au mieux l'interconnection des dynamiques.\n",
    "\n",
    "| Le monde industrialisé |\n",
    "| :--: |\n",
    "|![intro](https://gitlab.inria.fr/abaucher/pydynamo/-/raw/TPworld3/images_TP/intro.png)|\n",
    "|Pour ces références de ces images, voir le fichier https://gitlab.inria.fr/abaucher/pydynamo/-/raw/TPworld3/images_TP/sources.md)|"
   ]
  },
  {
   "cell_type": "markdown",
   "metadata": {},
   "source": [
    "## C'est quoi ce format de documment"
   ]
  },
  {
   "cell_type": "markdown",
   "metadata": {},
   "source": [
    "Afin que vous puissiez expérimenter aussi librement que possible nous vous avons fourni un notebook, qui est capable d'executer du core, contenir du texte et afficher les graphiques produits.  \n",
    "Un notebook se lit de haut en bas, et il faut exécuter les cellules de code **dans l'ordre** ([voir les commandes Jupyter expliquées ici](#7.1.-Commandes-Jupyter-Notebook)) afin de pouvoir afficher les graphiques et manipuler vos expériences. Pour commencer, exécuter la cellule ci-dessous en cliquant dessus puis sur le bouton &#9658; Run, ou bien avec **Ctrl + Entrée**."
   ]
  },
  {
   "cell_type": "code",
   "execution_count": 2,
   "metadata": {},
   "outputs": [],
   "source": [
    "# Exemple de cellule de code (à exécuter !)\n",
    "\n",
    "# Commande pour importer la classe World3\n",
    "from pydynamo import World3\n",
    "from IPython.display import display, clear_output, Markdown, HTML, Javascript\n",
    "from IPython.core.magic import register_cell_magic\n",
    "from ipywidgets import widgets\n",
    "\n",
    "\n",
    "# Commande pour importer et utiliser en direct une bibliothèque graphique\n",
    "import matplotlib.pyplot as plt\n",
    "%matplotlib inline\n",
    "cdn_resources='remote'"
   ]
  },
  {
   "cell_type": "code",
   "execution_count": 3,
   "metadata": {},
   "outputs": [],
   "source": [
    " # @hidden_cell\n",
    "\n",
    "###################################################################################################################################################\n",
    "def encrypt(text):\n",
    "    shift = 6\n",
    "    encrypted_text = \"\"\n",
    "    \n",
    "    for char in text:\n",
    "        if char.isalpha():\n",
    "            start = ord('A') if char.isupper() else ord('a')\n",
    "            encrypted_char = chr((ord(char) - start + shift) % 26 + start)\n",
    "            encrypted_text += encrypted_char\n",
    "        else:\n",
    "            encrypted_text += char\n",
    "    \n",
    "    return encrypted_text\n",
    "####################################################################################################################################################\n",
    "def decrypt(text):\n",
    "    shift = 6\n",
    "    decrypted_text = \"\"\n",
    "    for char in text:\n",
    "        if char.isalpha():\n",
    "            start = ord('A') if char.isupper() else ord('a')\n",
    "            decrypted_char = chr((ord(char) - start - shift) % 26 + start)\n",
    "            decrypted_text += decrypted_char\n",
    "        else:\n",
    "            decrypted_text += char\n",
    "    return decrypted_text\n",
    "#####################################################################################################################################################\n",
    "def calculate_reps(msg1, rep1 = \"\", att1 = \"\", msg2=\"\", rep2=\"\", att2=\"\"):\n",
    "    \n",
    "    if rep1.lower() == decrypt(att1.lower()):\n",
    "        srt1 = decrypt(msg1)\n",
    "    else:\n",
    "        srt1 = \"C'est surement une pas si mauvaise idée mais les graphiques semblent montrer une variable plus evidente\"\n",
    "    \n",
    "    if rep2.lower() == decrypt(att2.lower()):\n",
    "        srt2 = decrypt(msg2)\n",
    "    else:\n",
    "        srt2 = \"C'est surement une pas si mauvaise idée mais les graphiques semblent montrer une variable plus evidente\"\n",
    "    #print(\"srt1 = \"+srt1 + \" \" +\"srt2 = \"+srt2 + \" \"+\"rep1 = \"+ rep1 + \" \"+\"rep2 = \"+rep2 + \" \"+\"att1 = \"+att1 + \" \"+\"att2 = \"+att2)\n",
    "    return srt1, srt2\n",
    "#####################################################################################################################################################\n",
    "def calculate_reps_indice(indice, msg1, rep1 = \"\", att1 = \"\", msg2=\"\", rep2=\"\", att2=\"\"):\n",
    "    \n",
    "    if rep1.lower() == decrypt(att1.lower()):\n",
    "        srt1 = decrypt(msg1)\n",
    "        flag_1 = 1\n",
    "    else:\n",
    "        srt1 = \"C'est surement une pas si mauvaise idée mais les graphiques semblent montrer une variable plus evidente\"\n",
    "        flag_1 = 0\n",
    "    \n",
    "    if rep2.lower() == decrypt(att2.lower()):\n",
    "        srt2 = decrypt(msg2)\n",
    "        flag_2 = 1\n",
    "    else:\n",
    "        srt2 = \"C'est surement une pas si mauvaise idée mais les graphiques semblent montrer une variable plus evidente\"\n",
    "        flag_2 = 0\n",
    "    \n",
    "    if flag_1 * flag_2 != 0:\n",
    "        ind = decrypt(indice)\n",
    "        return srt1, srt2, ind\n",
    "    #print(\"srt1 = \"+srt1 + \" \" +\"srt2 = \"+srt2 + \" \"+\"rep1 = \"+ rep1 + \" \"+\"rep2 = \"+rep2 + \" \"+\"att1 = \"+att1 + \" \"+\"att2 = \"+att2)\n",
    "    return srt1, srt2\n",
    "#####################################################################################################################################################\n",
    "#####################################################################################################################################################\n",
    "def on_button_clicked_param(b, output, button, msg1, rep1=\"\", att1=\"\", msg2=\"\", rep2=\"\", att2=\"\"):\n",
    "    with output:\n",
    "        output.clear_output()\n",
    "        if output.layout.display == 'none':\n",
    "            srt1, srt2 = calculate_reps(msg1, rep1, att1, msg2, rep2, att2)\n",
    "            \n",
    "            output.layout.display = 'block'\n",
    "            button.description = \"Cacher la verification\"\n",
    "            button.button_style = 'primary'\n",
    "            output.layout.border = '3px solid blue'\n",
    "            \n",
    "            print(srt1)\n",
    "            if srt2!=\"\":\n",
    "                print(srt2)\n",
    "        else:\n",
    "            output.clear_output()\n",
    "            output.layout.display = 'none'\n",
    "            button.description = \"Afficher la verification\"\n",
    "            button.button_style = 'success'\n",
    "#####################################################################################################################################################\n",
    "def on_button_clicked_param_indice(b, output, button, indice, msg1, rep1=\"\", att1=\"\", msg2=\"\", rep2=\"\", att2=\"\"):\n",
    "    with output:\n",
    "        output.clear_output()\n",
    "        if output.layout.display == 'none':\n",
    "            srt1, srt2, indice = calculate_reps_indice(indice, msg1, rep1, att1, msg2, rep2, att2)\n",
    "            \n",
    "            output.layout.display = 'block'\n",
    "            button.description = \"Cacher la verification\"\n",
    "            button.button_style = 'primary'\n",
    "            output.layout.border = '3px solid blue'\n",
    "            \n",
    "            print(srt1)\n",
    "            if srt2!=\"\":\n",
    "                print(srt2)\n",
    "            if indice != \"\":\n",
    "                display(HTML(f'Indice pour la suite : <font color=\"red\">{indice}</font>'))\n",
    "        else:\n",
    "            output.clear_output()\n",
    "            output.layout.display = 'none'\n",
    "            button.description = \"Afficher la verification\"\n",
    "            button.button_style = 'success'\n",
    "######################################################################################################################################################\n",
    "def on_button_clicked_param_soluce(b, output, button, msg1, msg2=\"\"):\n",
    "    with output:\n",
    "        output.clear_output()\n",
    "        if output.layout.display == 'none':\n",
    "            \n",
    "            output.layout.display = 'block'\n",
    "            button.description = \"Cacher l'explication\"\n",
    "            button.button_style = 'info'\n",
    "            output.layout.border = '3px solid green'\n",
    "\n",
    "            display(HTML(f'Explication 1 : <font color=\"red\">{decrypt(msg1)}</font>. Pensez bien à executer les formules si ce ne sont pas celles que vous aviez trouvé, cela facilitera le reste travail'))\n",
    "            if msg2 != \"\":\n",
    "                display(HTML(f'Explication 2 : <font color=\"red\">{decrypt(msg2)}</font>. Pensez bien à executer les formules si ce ne sont pas celles que vous aviez trouvé, cela facilitera le reste travail'))\n",
    "        else:\n",
    "            output.clear_output()\n",
    "            output.layout.display = 'none'\n",
    "            button.description = \"Afficher l'explication\"\n",
    "            button.button_style = 'warning'\n",
    "#######################################################################################################################################################\n",
    "def verif_value_function(mode,valeur_a_verif,seuil1,msg1,msgErr,seuil2=-10,msg2=\"\"):\n",
    "    srt = decrypt(msgErr)\n",
    "    if seuil2 == -10:\n",
    "        seuil2 = seuil1\n",
    "    if mode == 0:#egalité seule\n",
    "        if valeur_a_verif == seuil1:\n",
    "            srt = decrypt(msg1)\n",
    "    elif mode == 1 : #inf or eq\n",
    "        if valeur_a_verif == seuil1:\n",
    "            srt = decrypt(msg1)\n",
    "        elif valeur_a_verif < seuil2:\n",
    "            print(\"hey\")\n",
    "            srt = decrypt(msg2)\n",
    "    elif mode == 2 : #sup or eq\n",
    "        if valeur_a_verif == seuil1:\n",
    "            srt = decrypt(msg1)\n",
    "        elif valeur_a_verif > seuil2:\n",
    "            srt = decrypt(msg2)\n",
    "    return srt\n",
    "########################################################################################################################################################\n",
    "def verif_value_button (b, output, button,mode,valeur_a_verif,seuil1,msg1,msgErr,seuil2=-10,msg2=\"\"):\n",
    "    with output:\n",
    "        output.clear_output()\n",
    "        if output.layout.display == 'none':\n",
    "            srt = verif_value_function(mode,valeur_a_verif,seuil1,msg1,msgErr,seuil2,msg2)\n",
    "            \n",
    "            output.layout.display = 'block'\n",
    "            button.description = \"Cacher la verification\"\n",
    "            button.button_style = 'primary'\n",
    "            output.layout.border = '3px solid blue'\n",
    "\n",
    "            print(srt)\n",
    "        else:\n",
    "            output.clear_output()\n",
    "            output.layout.display = 'none'\n",
    "            button.description = \"Afficher la verification\"\n",
    "            button.button_style = 'success'\n",
    "\n",
    "##################################################################################################################################################\n",
    "def execute_correctif(b,output,button,code):\n",
    "    with output:\n",
    "        output.clear_output()\n",
    "        try:\n",
    "            exec(code,globals())\n",
    "        except Exception as e:\n",
    "            print(f\"Erreur lors de l'exécution du correctif: {e}\")\n",
    "\n",
    "####################################################################################################################################################\n",
    "def contains_sublist(test_list, verif_list):\n",
    "    # Déchiffrer les éléments de verif_list\n",
    "    decrypted_verif_list = [decrypt(item) for item in verif_list]\n",
    "    \n",
    "    # Convertir les deux listes en ensembles\n",
    "    test_set = set(test_list)\n",
    "    verif_set = set(decrypted_verif_list)\n",
    "    \n",
    "    # Vérifier si verif_set est un sous-ensemble de test_set\n",
    "    is_subset = verif_set <= test_set\n",
    "    \n",
    "    # Identifier les éléments manquants\n",
    "    missing_elements = verif_set - test_set\n",
    "    \n",
    "    # Identifier les éléments valides\n",
    "    valid_elements = verif_set & test_set\n",
    "    \n",
    "    return is_subset, list(valid_elements)\n",
    "\n",
    "\n",
    "def contains_sublist_in_order_with_positions(test_list, verif_list):\n",
    "    valid_elements = []\n",
    "    well_placed_elements = []\n",
    "\n",
    "    verif_list = [decrypt(item) for item in verif_list]\n",
    "    # Index de parcours pour test_list\n",
    "    flag = 0\n",
    "\n",
    "    for i in range (len(test_list)):\n",
    "        j = 0\n",
    "        for j in range(len(verif_list)):\n",
    "            if verif_list[j] == test_list[i]:\n",
    "                if j == i:\n",
    "                    well_placed_elements.append(test_list[i])\n",
    "                else : \n",
    "                    valid_elements.append(test_list[i])\n",
    "    if len(well_placed_elements) == len(verif_list):\n",
    "        flag = 1\n",
    "    return flag, valid_elements, well_placed_elements\n",
    "######################################################################################################################################################\n",
    "def verif_list_button(b, output, button, test_list, verif_list, indice=\"\", verif_list_alt=[]):\n",
    "    with output:\n",
    "        output.clear_output()\n",
    "        \n",
    "        if output.layout.display == 'none':\n",
    "            flag, valids, wellplaced = contains_sublist_in_order_with_positions(test_list, verif_list)\n",
    "            \n",
    "            if not flag and verif_list_alt:\n",
    "                valids_alt = []\n",
    "                wellplaced_alt = []\n",
    "                flag, valids_alt, wellplaced_alt = contains_sublist_in_order_with_positions(test_list, verif_list_alt)\n",
    "                \n",
    "                for i in valids_alt:\n",
    "                    if i not in valids:\n",
    "                        valids.append(i)\n",
    "                for i in wellplaced_alt:\n",
    "                    if i not in wellplaced:\n",
    "                        wellplaced.append(i)\n",
    "\n",
    "            output.layout.display = 'block'\n",
    "            button.description = \"Cacher la verification\"\n",
    "            button.button_style = 'primary'\n",
    "            output.layout.border = '3px solid blue'\n",
    "            \n",
    "            if flag:\n",
    "                display(HTML(f'Exactement, l\\'une des chaînes causales recherchées est bien : <font color=\"green\">{str(wellplaced)}</font>.'))\n",
    "                if indice:\n",
    "                    display(HTML(f'Indice pour la suite : <font color=\"red\">{decrypt(indice)}</font>.'))\n",
    "            else:\n",
    "                display(HTML(f'Ce n\\'est pas une chaîne identifiée auparavant, mais vous y êtes presque. Voici les éléments valides mais non ordonnés : <font color=\"yellow\">{str(valids)}</font>. Tandis que les éléments suivants sont valides et bien placés dans l\\'ordre de la chaîne : <font color=\"green\">{str(wellplaced)}</font>'))            \n",
    "\n",
    "        else:\n",
    "            output.clear_output()\n",
    "            output.layout.display = 'none'\n",
    "            button.description = \"Afficher la verification\"\n",
    "            button.button_style = 'success'\n"
   ]
  },
  {
   "cell_type": "markdown",
   "metadata": {
    "part": "0"
   },
   "source": [
    "Tant qu'il y a une étoile dans les crochets du `In [*]` en haut à gauche de la cellule, c'est que le programme est en cours d'éxécution ! Quand il a fini, un chiffre se place dans les crochets: `In [1]`. Le texte que vous lisez est en format markdown, vous pouvez le modifier en double cliquant dessus, ou bien le remettre normalement en éxécutant la cellule.\n",
    "\n",
    "Nous avons laisser quelques questions au format ci-dessous que nous trouvons interressantes afin de vous guider, et vous aurez le loisir d'y réfléchir et de coder quelques lignes pour afficher les graphiques désirés. Par exemple:"
   ]
  },
  {
   "cell_type": "markdown",
   "metadata": {
    "type": "question"
   },
   "source": [
    "> ### Hello World3\n",
    "\n",
    "> Et si vous commenciez par faire un premier affichage..?"
   ]
  },
  {
   "cell_type": "code",
   "execution_count": 73,
   "metadata": {},
   "outputs": [],
   "source": [
    "# Votre code ...\n",
    "rep1 = \"print(\\\"Hello World3\\\")\""
   ]
  },
  {
   "cell_type": "code",
   "execution_count": 74,
   "metadata": {},
   "outputs": [
    {
     "data": {
      "application/vnd.jupyter.widget-view+json": {
       "model_id": "8a1f4dc60d4b4dc89b8b35d6d712e3a6",
       "version_major": 2,
       "version_minor": 0
      },
      "text/plain": [
       "Button(button_style='info', description='Explications', style=ButtonStyle())"
      ]
     },
     "metadata": {},
     "output_type": "display_data"
    },
    {
     "data": {
      "application/vnd.jupyter.widget-view+json": {
       "model_id": "e74a336eba144033a9aa424856385a01",
       "version_major": 2,
       "version_minor": 0
      },
      "text/plain": [
       "Output(layout=Layout(display='none'))"
      ]
     },
     "metadata": {},
     "output_type": "display_data"
    }
   ],
   "source": [
    "msg1 = encrypt(\"Bien joue : print(\\\"Hello World3\\\")\")\n",
    "#indice0 = encrypt(\" yeah\")\n",
    "\n",
    "button_1 = widgets.Button(description=\"Explications\")\n",
    "button_1.button_style = 'info'  # 'primary', 'success', 'info', 'warning', 'danger'\n",
    "\n",
    "output_1 = widgets.Output()\n",
    "\n",
    "# Lier la fonction on_button_clicked_param avec les paramètres spécifiques au bouton\n",
    "#button_0.on_click(lambda b: on_button_clicked_param_indice(b, output, button_0, indice0, msg0))\n",
    "button_1.on_click(lambda b: on_button_clicked_param(b, output_1, button_1, msg1))\n",
    "\n",
    "output_1.layout.display = 'none'\n",
    "\n",
    "display(button_1)\n",
    "display(output_1)"
   ]
  },
  {
   "cell_type": "markdown",
   "metadata": {
    "part": "0"
   },
   "source": [
    "Vous pouvez d'abord efffectuer les manipulations en écrivant dans la cellule de code sous la question, et en ajouter d'autres avec le bouton **+** ou la touche **B**. Ensuite, vous pouvez cliquer sur le bouton **Show Solution** comme ci-dessus (_attention, ne fonctionne pas sur jupyter-lab_), et exécuter les cellules nécessaires pour la suite. La lecture des 4 premières parties, jusqu'à [À vous de jouer](#4.-À-vous-de-jouer) incluse, est nécessaire pour manipuler les autres parties ou ses propres expériences. Ensuite, les parties [Agriculture](#Choix-d'exploration:-Changements-agricoles) et [Décroissance](#Choix-d'exploration:-Décroissance) peuvent être traîtées indépendemment. \n",
    "\n",
    "Ah oui, et pour naviguer entre les sections, la table des matières apparaît si vous appuyez sur l'icône <i class=\"fa fa-list\" aria-hidden=\"true\"></i> dans la barre d'outils du haut."
   ]
  },
  {
   "cell_type": "markdown",
   "metadata": {
    "part": "0"
   },
   "source": [
    "C'est tout, bonne séance !"
   ]
  },
  {
   "cell_type": "markdown",
   "metadata": {},
   "source": [
    "***\n",
    "\n",
    "# 1. Le modèle _World3_ et le module `pydynamo`"
   ]
  },
  {
   "cell_type": "markdown",
   "metadata": {
    "part": "1"
   },
   "source": [
    "- _Note: Cette partie se fera à principalement à l'oral si c'est un TP_"
   ]
  },
  {
   "cell_type": "markdown",
   "metadata": {
    "part": "1"
   },
   "source": [
    "En 1972, des chercheur.e.s américain.e.s ont tenté de modéliser les dynamiques du système terre pour mieux comprendre les caractéristiques de la croissance industrielle et des limites planétaires. Appuyé par des études empiriques décrites dans [ce bouquin très long](https://archive.org/details/dynamicsofgrowth0000unse/), plus de 150 équations ont été écrites pour tenter de décrire les phénomènes les plus importants dans les interactions entre le monde industrialisé et la planète Terre. Un fragment du schéma reliant toutes les variables est montré ci dessous. [Les équations](https://gitlab.inria.fr/abaucher/pydynamo/-/blob/master/src/pydynamo/world3/code_pydynamo_w3.py) ont été ensuite implémentées dans un système informatique afin de lancer des simulations et réaliser des expériences. Tout cela a l'air très compliqué, mais nous apprendrons pas à pas à manipuler et interpréter ce que signifient ces symboles et expressions. \n",
    "\n",
    "![schema](https://gitlab.inria.fr/abaucher/pydynamo/-/raw/TPworld3/images_TP/sector_fraction_diagram.png)"
   ]
  },
  {
   "cell_type": "markdown",
   "metadata": {
    "part": "1"
   },
   "source": [
    "Le modèle que nous avons développé est accessible depuis le module python `pydynamo`, il permet de lire et de modifier ces équations, de lancer des simulations et d'afficher les résultats sous forme graphique. L'ensemble des commandes utiles sont listées à la [fin du notebook](#7.2.-Commandes-Pydynamo). Voici par exemple comment lancer et afficher les résultats la simulation de base:"
   ]
  },
  {
   "cell_type": "code",
   "execution_count": 75,
   "metadata": {},
   "outputs": [
    {
     "data": {
      "image/png": "[encoded data removed]",
      "text/plain": [
       "<Figure size 800x1200 with 11 Axes>"
      ]
     },
     "metadata": {},
     "output_type": "display_data"
    }
   ],
   "source": [
    "# Déclaration d'une instance du premier (=1) scénario du modèle world3\n",
    "w = World3(1)\n",
    "\n",
    "# Lancement de la simulation, par défaut de 1900 à 2100 \n",
    "w.run()\n",
    "\n",
    "# Affichage de l'évolution principales variables du monde, avec un titre\n",
    "w.plot_world(title=\"Scénario 1: Business as usual\")"
   ]
  },
  {
   "cell_type": "markdown",
   "metadata": {
    "part": "1"
   },
   "source": [
    "_On voit ici l'évolution, durant la simulation du scénario de base, d'un certain nombre de variables clés, dont on comprendra plus en détail la signification au cours de cette exploration._"
   ]
  },
  {
   "cell_type": "markdown",
   "metadata": {},
   "source": [
    "***\n",
    "\n",
    "# 2. Introduction et analyse du premier scénario"
   ]
  },
  {
   "cell_type": "markdown",
   "metadata": {},
   "source": [
    "- Ce premier scénario, qui suppose que les dynamiques de croissance du monde industriel perdurent essentiellement comme elles l'on fait durant le 20eme siècle, montre un **effondrement**, c'est à dire ici une baisse conjointe de la population  et de la quantité de biens, services et nourriture par personne, autour de 2025. \n",
    "\n",
    "Mais attention ! Le modèle est enssentiellement __qualitatif__: il n'a pas la prétention de prévoir et de quantifier précisemment l'avenir du système terre, mais de montrer quels __types de phénomènes__ sont susceptibles de se produire selon certaines hypothèses. "
   ]
  },
  {
   "cell_type": "markdown",
   "metadata": {
    "part": "2"
   },
   "source": [
    "## _Indications_ _Mieux comprendre une simulation_"
   ]
  },
  {
   "cell_type": "markdown",
   "metadata": {
    "part": "2"
   },
   "source": [
    "Pour mieux comprendre les variables présentées sur les graphiques, plusieurs possibilités:\n",
    "\n",
    "Le plus facile est de chercher dans la [documentation](https://abaucher.gitlabpages.inria.fr/pydynamo/w3_sectors.html), qui montre la définition, l'équation, les liens avec les autres variables, etc. (voir [en annexe](#7.3.-Lire-la-documentation) comment utiliser la documentation). La barre de recherche est en haut à gauche.\n",
    "\n",
    "![documentation](https://gitlab.inria.fr/abaucher/pydynamo/-/raw/TPworld3/images_TP/doc.png)"
   ]
  },
  {
   "cell_type": "markdown",
   "metadata": {
    "part": "2"
   },
   "source": [
    "On peut aussi afficher leur définition  avec la commande `definition`:"
   ]
  },
  {
   "cell_type": "code",
   "execution_count": 76,
   "metadata": {
    "part": "2"
   },
   "outputs": [
    {
     "data": {
      "text/plain": [
       "'Arable Land'"
      ]
     },
     "execution_count": 76,
     "metadata": {},
     "output_type": "execute_result"
    }
   ],
   "source": [
    "w.definition('al')"
   ]
  },
  {
   "cell_type": "markdown",
   "metadata": {
    "part": "2"
   },
   "source": [
    "_La variable __al__, **a**rable **l**and, représente les terres cutlivables_"
   ]
  },
  {
   "cell_type": "markdown",
   "metadata": {
    "part": "2"
   },
   "source": [
    "On peut aussi afficher l'équation de calcul d'une variable avec `equation`:"
   ]
  },
  {
   "cell_type": "code",
   "execution_count": 77,
   "metadata": {
    "part": "2"
   },
   "outputs": [
    {
     "data": {
      "text/plain": [
       "'al.k = al.j + dt*(ldr.j - ler.j - lrui.j)'"
      ]
     },
     "execution_count": 77,
     "metadata": {},
     "output_type": "execute_result"
    }
   ],
   "source": [
    "w.equation('al')"
   ]
  },
  {
   "cell_type": "markdown",
   "metadata": {
    "part": "2"
   },
   "source": [
    "_Pour calculer la valeur actuelle (__al.k__) de la variable __al__, on utilise sa valeur précédente (__al.j__), plus le pas de temps __dt__, multiplié par un terme composé des valeurs précédentes (avec __.j__) de trois autres variables. Celles ci font un bilan du développement des terres (__ldr__, **l**and **d**evelopment **r**ate), de l'érosion (__ler__, **l**and **e**rosion **r**ate) et de l'urbanisation (__lrui__, **l**and **r**emoval from **u**rban and **i**ndustrial use)._\n",
    "* Plus d'explications à propos des équations en [annexe du notebook](#7.4.-Comment-World3-a-été-conçu-et-implémenté)"
   ]
  },
  {
   "cell_type": "markdown",
   "metadata": {
    "part": "2"
   },
   "source": [
    "Enfin, la commande `plot` permet d'afficher l'évolution de variables en particulier:"
   ]
  },
  {
   "cell_type": "code",
   "execution_count": 78,
   "metadata": {
    "part": "2"
   },
   "outputs": [
    {
     "data": {
      "image/png": "[encoded data removed]",
      "text/plain": [
       "<Figure size 640x480 with 1 Axes>"
      ]
     },
     "metadata": {},
     "output_type": "display_data"
    }
   ],
   "source": [
    "# Affichage des variables al, io et nr, renormalisé (rescale) entre 0 et 1\n",
    "w.plot(['al', 'io', 'nr'], rescale=True)"
   ]
  },
  {
   "cell_type": "markdown",
   "metadata": {
    "part": "2"
   },
   "source": [
    "_Les terres arables et le produit industriel ont un pic en 2025. Les ressources non renouvelables baissent continuellement_"
   ]
  },
  {
   "cell_type": "markdown",
   "metadata": {},
   "source": [
    "## Par quoi est causé cet effondrement pour le premier scénario ?"
   ]
  },
  {
   "cell_type": "markdown",
   "metadata": {},
   "source": [
    "Ce modèle a l'interet de simuler l'interconnectivité des diverses variables qui interviennent dans les differents phénomènes. De ce fait, pour comprendre cet effondrement, il peut être pertinent de regarder plus en détails les facteurs des variables observées pour comprendre la tendance des courbes.  \n",
    "Ici, on pourra  \n",
    "> Afficher l'équation du produit industriel ***io*** avec la fonction `equation`. De quelles variables a-t-on besoin pour le calculer ?\n",
    "\n",
    "> Afficher les courbes de ces variables avec `plot`. Quelle variable a un comportement particulier, et pourrait être à l'origine de la baisse de ***io*** ? "
   ]
  },
  {
   "cell_type": "markdown",
   "metadata": {
    "type": "question"
   },
   "source": [
    "> ### Question 2.1\n",
    "> Exliqueriez vous ce qui cause un effondrement ?  \n",
    "> Quelle est la variable déterminante ici ?  \n",
    "> Pourquoi cette variable à ce comportement?"
   ]
  },
  {
   "cell_type": "code",
   "execution_count": 79,
   "metadata": {},
   "outputs": [],
   "source": [
    "Cause_Effondrement = \"Votre Reponse ..?\" # Attention, il faut l'ecrire entre guillemets\n",
    "Variable_determinante = \"Votre Reponse..?\"\n",
    "\n",
    "#################################\n",
    "rep2_1 = Cause_Effondrement      ##\n",
    "rep2_2 = Variable_determinante   ##"
   ]
  },
  {
   "cell_type": "code",
   "execution_count": 80,
   "metadata": {},
   "outputs": [
    {
     "data": {
      "application/vnd.jupyter.widget-view+json": {
       "model_id": "d18b9b4206464a428e5c7f78dcdeba4e",
       "version_major": 2,
       "version_minor": 0
      },
      "text/plain": [
       "Button(button_style='success', description='Verifier ses interprétation', style=ButtonStyle())"
      ]
     },
     "metadata": {},
     "output_type": "display_data"
    },
    {
     "data": {
      "application/vnd.jupyter.widget-view+json": {
       "model_id": "bf3974fa2bb84454b7fdcbc1b305aa4d",
       "version_major": 2,
       "version_minor": 0
      },
      "text/plain": [
       "Button(button_style='warning', description='Explications', style=ButtonStyle())"
      ]
     },
     "metadata": {},
     "output_type": "display_data"
    },
    {
     "data": {
      "application/vnd.jupyter.widget-view+json": {
       "model_id": "32f7f7578b434cb995539a0b295ccaf7",
       "version_major": 2,
       "version_minor": 0
      },
      "text/plain": [
       "Output(layout=Layout(display='none'))"
      ]
     },
     "metadata": {},
     "output_type": "display_data"
    },
    {
     "data": {
      "application/vnd.jupyter.widget-view+json": {
       "model_id": "8c41c31a823c415c861d15f64390348a",
       "version_major": 2,
       "version_minor": 0
      },
      "text/plain": [
       "Output(layout=Layout(display='none'))"
      ]
     },
     "metadata": {},
     "output_type": "display_data"
    }
   ],
   "source": [
    "att2_1 = \"ou\"\n",
    "att2_2 = \"ligux\"\n",
    "msg2_1 = \"Kdgizksktz, ut iutyzgzk at kllutjxksktz otjayzxokr, gizakrrksktz yuirk kyyktzokr d tuzxk sujk jk bok.\"\n",
    "msg2_2 = \"CZuaz g lgoz, rk lgoz wa'atk vgx jk vray kt vray osvuxzgtzk jky xkyyuaxiky lotgtiogoxky yuoz otbkyzok jgty r'kdzxgizout jk xkyyuaxik lgoz kdvruykx rky iuazy kz xkjaoz rg vxujaizout.\"\n",
    "\n",
    "slt2_1 = \"Ik wao igayk ikz kllutjxksktz kyz rg inazk xgjoigrk jk rg bgxoghrk 'ou', otjayzxogr uazvaz, wao kyz kyyktzokr jgty tuzxk sujk jk bok.\"\n",
    "slt2_2 = \"R'kllutjxksktz jk r'otjayzxogr uazvaz ykshrk iuxxkrk g r'kdvruyout jk 'ligux', lxgizout ul otjayzxogr igvozgr grruigzkj zu uhzgototm xkyuaxiky, Sgoy vuaxwauo ?\"\n",
    "\n",
    "button_2 = widgets.Button(description=\"Verifier ses interprétation\")\n",
    "button_2.button_style = 'success'  # 'primary', 'success', 'info', 'warning', 'danger'\n",
    "\n",
    "soluce_button_2 = widgets.Button(description = \"Explications\")\n",
    "soluce_button_2.button_style = 'warning'\n",
    "\n",
    "output_button_2 = widgets.Output()\n",
    "output_soluce_2 = widgets.Output()\n",
    "\n",
    "button_2.on_click(lambda b: on_button_clicked_param(b, output_button_2, button_2, msg2_1, rep2_1, att2_1, msg2_2, rep2_2, att2_2))\n",
    "soluce_button_2.on_click(lambda b: on_button_clicked_param_soluce(b, output_soluce_2, soluce_button_2, slt2_1, slt2_2))\n",
    "\n",
    "output_button_2.layout.display = 'none'\n",
    "output_soluce_2.layout.display = 'none'\n",
    "\n",
    "\n",
    "display(button_2)\n",
    "display(soluce_button_2)\n",
    "display(output_button_2)\n",
    "display(output_soluce_2)\n"
   ]
  },
  {
   "cell_type": "code",
   "execution_count": 81,
   "metadata": {},
   "outputs": [],
   "source": [
    "Variable_explicative_evolution = \"Votre Reponse..?\"\n",
    "\n",
    "########################################\n",
    "rep3 = Variable_explicative_evolution ##"
   ]
  },
  {
   "cell_type": "code",
   "execution_count": 82,
   "metadata": {},
   "outputs": [
    {
     "data": {
      "application/vnd.jupyter.widget-view+json": {
       "model_id": "53af42c560b74f629ce399362981065a",
       "version_major": 2,
       "version_minor": 0
      },
      "text/plain": [
       "Button(button_style='success', description='Afficher le contenu', style=ButtonStyle())"
      ]
     },
     "metadata": {},
     "output_type": "display_data"
    },
    {
     "data": {
      "application/vnd.jupyter.widget-view+json": {
       "model_id": "f6b077b4901b4f4baae12307d2f5e037",
       "version_major": 2,
       "version_minor": 0
      },
      "text/plain": [
       "Output(layout=Layout(display='none'))"
      ]
     },
     "metadata": {},
     "output_type": "display_data"
    },
    {
     "data": {
      "application/vnd.jupyter.widget-view+json": {
       "model_id": "664c840e7a2c4d33b0916d210769e2a7",
       "version_major": 2,
       "version_minor": 0
      },
      "text/plain": [
       "Button(button_style='warning', description='Explications', style=ButtonStyle())"
      ]
     },
     "metadata": {},
     "output_type": "display_data"
    },
    {
     "data": {
      "application/vnd.jupyter.widget-view+json": {
       "model_id": "51b2a0b2a5374ad7b67c224ea4079ebf",
       "version_major": 2,
       "version_minor": 0
      },
      "text/plain": [
       "Output(layout=Layout(display='none'))"
      ]
     },
     "metadata": {},
     "output_type": "display_data"
    }
   ],
   "source": [
    "att3 = \"tx\"\n",
    "msg3 = \"Kdgizksktz, ut iutyzgzk at kllutjxksktz otjayzxokr, gizakrrksktz yuirk kyyktzokr d tuzxk sujk jk bok.\"\n",
    "slt3 = \"ou kyz igriarm iussk at vxujaoz jk vrayokaxy bgxoghrky. Ut xksgxwak gruxy wak ligux , rg lxgizout jk igvozgr azoroym vuax uhzktox jky xkyuaxiky (lxgizout ul otjayzxogr igvozgr grruigzkj zu uhzgototm xkyuaxiky), kdvruyk d vgxzox jk 2020, kz wak ikrg taoz ga vxujaoz otjayzxokr zuzgr jgty r'mwagzout. Ux rg xgxklgizout jky xkyyuaxiky luxiky g jmvktykx zuapuaxy vray j'ktkxmok vuax rky kdzxgoxk.\"\n",
    "\n",
    "button_3 = widgets.Button(description=\"Afficher le contenu\")\n",
    "button_3.button_style = 'success'  # 'primary', 'success', 'info', 'warning', 'danger'\n",
    "\n",
    "soluce_button_3 = widgets.Button(description = \"Explications\")\n",
    "soluce_button_3.button_style = 'warning'\n",
    "\n",
    "output_3 = widgets.Output()\n",
    "soluce_output_3 = widgets.Output()\n",
    "\n",
    "button_3.on_click(lambda b: on_button_clicked_param(b, output_3, button_3, msg3, rep3, att3))\n",
    "soluce_button_3.on_click(lambda b: on_button_clicked_param_soluce(b, soluce_output_3, soluce_button_3, slt3))\n",
    "\n",
    "output_3.layout.display = 'none'\n",
    "soluce_output_3.layout.display = 'none'\n",
    "\n",
    "display(button_3)\n",
    "display(output_3)\n",
    "display(soluce_button_3)\n",
    "display(soluce_output_3)"
   ]
  },
  {
   "cell_type": "markdown",
   "metadata": {
    "solution2": "hidden",
    "type": "solution"
   },
   "source": [
    "> ### Solution 2.1"
   ]
  },
  {
   "cell_type": "markdown",
   "metadata": {
    "solution2": "hidden",
    "type": "solution"
   },
   "source": [
    "***\n",
    "\n",
    "> ### Solution 2.1 Les variables à l'origine de l'effondrement de io"
   ]
  },
  {
   "cell_type": "code",
   "execution_count": 83,
   "metadata": {
    "solution2": "hidden",
    "type": "solution"
   },
   "outputs": [
    {
     "name": "stdout",
     "output_type": "stream",
     "text": [
      "industrial output\n",
      "io.k = ic.k*(1-fcaor.k)*cuf.k/icor.k\n"
     ]
    },
    {
     "data": {
      "image/png": "[encoded data removed]",
      "text/plain": [
       "<Figure size 640x480 with 1 Axes>"
      ]
     },
     "metadata": {},
     "output_type": "display_data"
    }
   ],
   "source": [
    "# Afficher la définition et l'équation de 'io'\n",
    "print(w.definition('io'))\n",
    "print(w.equation('io')) \n",
    "# Affichage des variables désirées, normalisé (rescale) entre 0 et 1, avec un titre\n",
    "w.plot({'io', 'ic', 'fcaor', 'cuf', 'icor'}, rescale=True, title=\"Quelques variables en jeu dans le calcul du produit industriel\") "
   ]
  },
  {
   "cell_type": "markdown",
   "metadata": {
    "solution2": "hidden",
    "type": "solution"
   },
   "source": [
    "**io** est calculé comme un produit de plusieurs variables. On  remarque alors que ***fcaor*** , la fraction de capital utilisé pour obtenir des resources (**f**raction of industrial **c**apital **a**llocated to **o**btaining **r**esources), explose à partir de 2020, et que cela nuit au produit industriel total dans l'équation. Mais pourquoi ?\n",
    "\n",
    "***"
   ]
  },
  {
   "cell_type": "markdown",
   "metadata": {
    "part": "2"
   },
   "source": [
    "## _Indications_: Les fonctions non-linéaires"
   ]
  },
  {
   "cell_type": "markdown",
   "metadata": {
    "part": "2"
   },
   "source": [
    "Dans le modèle World3, certaines variables sont des fonctions non linéaires d'autres variables. Elles sont repérables dans une équation par leur nom ***NLF_*** (Non Linear Function (ça s'appelle [tabhl](https://abaucher.gitlabpages.inria.fr/pydynamo/tabhl.html) dans la doc)). On peut afficher la courbe d'une équation non linéaire d'une variable avec la fonction `plot_non_linearity`. Par exemple:"
   ]
  },
  {
   "cell_type": "code",
   "execution_count": 84,
   "metadata": {},
   "outputs": [
    {
     "name": "stdout",
     "output_type": "stream",
     "text": [
      "jph.k = NLF_jpht(aiph.k)\n"
     ]
    },
    {
     "data": {
      "image/png": "[encoded data removed]",
      "text/plain": [
       "<Figure size 640x480 with 1 Axes>"
      ]
     },
     "metadata": {},
     "output_type": "display_data"
    }
   ],
   "source": [
    "print(w.equation('jph'))\n",
    "w.plot_non_linearity('jph')"
   ]
  },
  {
   "cell_type": "markdown",
   "metadata": {
    "part": "2"
   },
   "source": [
    "_La variable ___jph___, les métiers par hectare, (**j**obs **p**er **h**ectare) est calculé comme une fonction non linéaire de la variable ***aiph***, la quantité d'intrants agricoles par hectare. Ici, cette relation indique que les emplois agricoles décroissent très vite lorsqu'on augmente les intrants, mais qu'ils convergent ensuite vers 0.2._"
   ]
  },
  {
   "cell_type": "markdown",
   "metadata": {
    "part": "2"
   },
   "source": [
    "Chacune de ces fonctions non linéaires est fixée à l'aide d'un tableau de valeurs. Cette table a le même nom que la variable avec un \"**t**\" à la fin. Par exemple:"
   ]
  },
  {
   "cell_type": "code",
   "execution_count": 85,
   "metadata": {
    "part": "2"
   },
   "outputs": [
    {
     "name": "stdout",
     "output_type": "stream",
     "text": [
      "jobs per hectare table\n",
      "[2.   0.5  0.4  0.3  0.27 0.24 0.2  0.2 ]\n"
     ]
    }
   ],
   "source": [
    "print(w.definition('jpht'))\n",
    "print(w.jpht)"
   ]
  },
  {
   "cell_type": "markdown",
   "metadata": {
    "part": "2"
   },
   "source": [
    "_On retrouve les valeurs du graphique précédent avec la table ***jpht***_"
   ]
  },
  {
   "cell_type": "markdown",
   "metadata": {
    "part": "2"
   },
   "source": [
    "## La non linéarité à l'origine de l'effondrement du scénario 1"
   ]
  },
  {
   "cell_type": "markdown",
   "metadata": {
    "type": "question"
   },
   "source": [
    "> ### Question 2.2\n",
    "\n",
    "> En affichant la fonction non linéaire de **fcaor** (**f**raction of industrial **c**apital **a**llocated to **o**btaining **r**esources), une des variables influençant l'output inustriel **io** et à l'aide de ce graphique et de celui de la question précédente, comment analyseriez-vous les causes de l'effondrement de l'industrie dans le premier scénario ?\n",
    "\n",
    "Précision supplémentaire:\n",
    "- Souvent, dans le modèle World3, les variables changent d'équation ou de valeur à partir d'une certaine date. Quand c'est le cas, on a alors le nom de la variable suivi d'un \"1\" ou \"2\" pour signifier avant ou après la date en question. Par exemple, ***fcaor*** passe de ***fcaor1*** à ***fcaor2*** à  partir de l'an 4000 dans le premier scénario (c'est à dire jamais), et la non linéarité affichée par défaut est celle de la première période, ***fcaor1***. Plus de précisions avec la fonction [clip](https://abaucher.gitlabpages.inria.fr/pydynamo/clip.html)"
   ]
  },
  {
   "cell_type": "code",
   "execution_count": 86,
   "metadata": {},
   "outputs": [],
   "source": [
    "# Votre code..."
   ]
  },
  {
   "cell_type": "markdown",
   "metadata": {
    "solution2": "hidden",
    "type": "solution"
   },
   "source": [
    "***\n",
    "\n",
    "> ### Solution 2.2 Affichage et interprétation de fcaor"
   ]
  },
  {
   "cell_type": "code",
   "execution_count": 87,
   "metadata": {
    "solution2": "hidden",
    "type": "solution"
   },
   "outputs": [
    {
     "name": "stdout",
     "output_type": "stream",
     "text": [
      "fcaor.k = clip(fcaor2.k, fcaor1.k, time.k, fcaortm)\n",
      "fcaor1.k = NLF_fcaor1t(nrfr.k)\n",
      "fraction of resources remaining\n"
     ]
    },
    {
     "data": {
      "image/png": "[encoded data removed]",
      "text/plain": [
       "<Figure size 640x480 with 1 Axes>"
      ]
     },
     "metadata": {},
     "output_type": "display_data"
    }
   ],
   "source": [
    "print(w.equation('fcaor'))\n",
    "print(w.equation('fcaor1'))\n",
    "print(w.definition('nrfr'))\n",
    "w.plot_non_linearity('fcaor')"
   ]
  },
  {
   "cell_type": "markdown",
   "metadata": {
    "solution2": "hidden",
    "type": "solution"
   },
   "source": [
    "En observant l'équation de la variable ***fcaor1***, on peut voir qu'elle est calculée en fonction de ***nrfr***, le ratio des resources non renouvelables disponibles (**n**on **r**enewable **r**esources **f**raction **r**emaining). Sur le graphique, on observe que: \n",
    "\n",
    "- quand ***nrfr*** est faible, cela signifie que les resources non renouvelables sont rares, et donc plus coûteuses à extraire. Elles peuvent en effet être plus loin, plus profond, moins dense (comme le pétrole de schiste ou le cuivre), ce qui signifie qu'une énergie beaucoup plus grande va être nécessaire pour l'obtenir, comme on peut le voir dans le grapique ci dessous. Le capital à investir pour obtenir ces resources, ***fcaor*** va donc avoir tendance à prendre toute la place des investissements.\n",
    "\n",
    "\n",
    "| Il faut beaucoup creuser pour extraire du cuivre dans certaines mines ! |\n",
    "|:--:|\n",
    "| ![boule de cuivre](https://gitlab.inria.fr/abaucher/pydynamo/-/raw/TPworld3/images_TP/boule_cuivre.jpeg) |\n",
    "\n",
    "\n",
    "<!---\n",
    "- source:\n",
    "    - http://dillonmarsh.com/copper.html\n",
    "-->\n",
    "\n",
    "| Quantité d'énergie nécessaire à l'extraction de quelques minérais, en fonction de leur densité |\n",
    "|:--:| \n",
    "| ![energyMetal](https://gitlab.inria.fr/abaucher/pydynamo/-/raw/TPworld3/images_TP/energy_metal_production.png) |\n",
    "\n",
    "\n",
    "<!---\n",
    "- source: \n",
    "    - ORE GRADE, METAL PRODUCTION, AND ENERGY\n",
    "    - NORMAN J PAGE and S. C. CREASEY, Menlo Park, Calif.\n",
    "    - Journal of Research of the U. S. Geological Survey, 1975, volume 3, issue 1 \n",
    "    - https://pubs.usgs.gov/journal/1975/vol3issue1/report.pdf\n",
    "-->"
   ]
  },
  {
   "cell_type": "markdown",
   "metadata": {
    "solution2": "hidden",
    "type": "solution"
   },
   "source": [
    "Comme vu sur le premier graphique, la quantité de resource non renouvelables décroit très vite. À un certain seuil, cela provoque une explosion du coût d'extraction des resources, et donc une forte baisse de la produciton industrielle. C'est à travers ce mécanisme que l'effondrement est provoqué dans ce premier scénario.\n",
    "\n",
    "***"
   ]
  },
  {
   "cell_type": "markdown",
   "metadata": {},
   "source": [
    "***\n",
    "\n",
    "# 3. Oh ! Encore des ressources !"
   ]
  },
  {
   "cell_type": "markdown",
   "metadata": {
    "part": "3"
   },
   "source": [
    "- Si c'est le manque de resources qui pose problème dans le premier scénario, on pourrait, avec pas mal d'optimisme (ou d'aveuglement), imaginer des solutions qui éviteraient l'effondrement sans pour autant remettre en question le mode de développement et de production actuel. Que se passerait-il s'il restait 2 fois plus de resources que prévu ? \n",
    "\n",
    "| Cette mine de charbon est si jolie, ce serait vraiment super si on pouvait en ouvrir une deuxième ... |\n",
    "|:--:|\n",
    "| ![mine de charbon en Allemagne](https://gitlab.inria.fr/abaucher/pydynamo/-/raw/TPworld3/images_TP/lutzi.jpeg) |\n",
    "\n",
    "\n",
    "<!---\n",
    "- source:\n",
    "    - https://newsrnd.com/life/2022-10-04-decision-on-l%C3%BCtzerath--sacrificed-for-a-promise.Byd6jA0Kzi.html\n",
    "-->"
   ]
  },
  {
   "cell_type": "markdown",
   "metadata": {
    "part": "3"
   },
   "source": [
    "## _Indications_: Obtenir et changer des paramètres"
   ]
  },
  {
   "cell_type": "markdown",
   "metadata": {
    "part": "3"
   },
   "source": [
    "On récupère et modifie les paramètres d'une instance système en accédant directement à ses attributs (_Note Python: en python, les attributs d'un objet sont des variables attachées à l'objet, auxquelles on accède en écrivant `nom_objet.nom_attribut`_). Pour lancer une simulation avec d'autres options, il suffit de changer la valeur d'un paramètre, puis de lancer le modèle avec `run`. Par exemple, si je décide de fixer le gachîs de nourritures ***pl*** (**p**rocessing **l**oss) à 0:"
   ]
  },
  {
   "cell_type": "code",
   "execution_count": 88,
   "metadata": {
    "part": "3"
   },
   "outputs": [
    {
     "name": "stdout",
     "output_type": "stream",
     "text": [
      "0.1\n"
     ]
    }
   ],
   "source": [
    "w_pas_de_gachis = World3(1)\n",
    "print(w_pas_de_gachis.pl)\n",
    "w_pas_de_gachis.pl = 0\n",
    "w_pas_de_gachis.run()"
   ]
  },
  {
   "cell_type": "markdown",
   "metadata": {
    "part": "3"
   },
   "source": [
    "_Par défaut, le gachîs de nourriture est fixé à 0.1 (10%) dans le modèle. Le fixer à 0 ne semble pas faire bugger le modèle. On observera les effets de ce paramétrage après l'exercice suivant._"
   ]
  },
  {
   "cell_type": "markdown",
   "metadata": {
    "part": "3"
   },
   "source": [
    "Il est aussi possible d'accéder la valeur d'une variable à une certaine date avec des crochets. Par exemple, pour obtenir le nombre d'habitants ***pop*** en 2050:"
   ]
  },
  {
   "cell_type": "code",
   "execution_count": 89,
   "metadata": {
    "part": "3"
   },
   "outputs": [
    {
     "data": {
      "text/plain": [
       "6717037382.062237"
      ]
     },
     "execution_count": 89,
     "metadata": {},
     "output_type": "execute_result"
    }
   ],
   "source": [
    "w['pop', 2050]"
   ]
  },
  {
   "cell_type": "markdown",
   "metadata": {
    "part": "3"
   },
   "source": [
    "_D'après le scénario 1, nous serons 6.7 milliards sur terre en 2050, soit beaucoup moins que [ce que prédit l'ONU](https://www.un.org/fr/un75/shifting-demographics) ..._"
   ]
  },
  {
   "cell_type": "markdown",
   "metadata": {
    "part": "3"
   },
   "source": [
    "## Doubler les resources"
   ]
  },
  {
   "cell_type": "markdown",
   "metadata": {
    "type": "question"
   },
   "source": [
    "> Récupérer une autre instance du modèle `World3`, appelée par exemple _wr2_: `wr2 = World3(1)`\n",
    "\n",
    "> Récupérer la valeur de la quantité de ressources initiales **nri** (**n**on **r**enewable **i*initial).\n",
    "\n",
    "> Doubler la valeur de ***nri*** de la nouvelle instance, puis relancer la simulation.\n",
    "\n",
    "> Afficher le résultat avec `plot_world`. Que se passe-t-il par rapport au scénario 1?"
   ]
  },
  {
   "cell_type": "code",
   "execution_count": 138,
   "metadata": {},
   "outputs": [],
   "source": [
    "wr2 = World3(scenario_number=1)\n",
    "# Votre code ...\n"
   ]
  },
  {
   "cell_type": "code",
   "execution_count": 139,
   "metadata": {},
   "outputs": [
    {
     "data": {
      "application/vnd.jupyter.widget-view+json": {
       "model_id": "ee610fad20fc4be3bf73a9e9679c133d",
       "version_major": 2,
       "version_minor": 0
      },
      "text/plain": [
       "Button(button_style='success', description='Vérifier', style=ButtonStyle())"
      ]
     },
     "metadata": {},
     "output_type": "display_data"
    },
    {
     "data": {
      "application/vnd.jupyter.widget-view+json": {
       "model_id": "14f1d9d5503c4f0d979ff81f0fad3df3",
       "version_major": 2,
       "version_minor": 0
      },
      "text/plain": [
       "Button(button_style='warning', description='Explications', style=ButtonStyle())"
      ]
     },
     "metadata": {},
     "output_type": "display_data"
    },
    {
     "data": {
      "application/vnd.jupyter.widget-view+json": {
       "model_id": "82295f79290845788a746a2f37089f73",
       "version_major": 2,
       "version_minor": 0
      },
      "text/plain": [
       "Output(layout=Layout(display='none'))"
      ]
     },
     "metadata": {},
     "output_type": "display_data"
    },
    {
     "data": {
      "application/vnd.jupyter.widget-view+json": {
       "model_id": "f1e9afc040954484b7e6bb17e3cf9566",
       "version_major": 2,
       "version_minor": 0
      },
      "text/plain": [
       "Output(layout=Layout(display='none'))"
      ]
     },
     "metadata": {},
     "output_type": "display_data"
    }
   ],
   "source": [
    "wr2.run()\n",
    "seuil4 = 2000000000000.0\n",
    "msg4 = \"Yavkx, i'kyz kdgizksktz rg josotazout jutz tuay vgxrouty. Bkxolouty yosvrksktz wak tuay t'geuty vgy lgoz vray iusvrowak wak tkikyygoxk kt iusvgxgtz g ikzzk luxsark : c_haxrkywak.tkc_vurozoi('vvurd', 2012, 'vvurd.p - 0.02*vvurd.p*jz')\"\n",
    "msgErr4 = encrypt(\"C'est excellent que vous fassiez des essais, mais pour le moment, on ne constate pas de baisse semblable à -2% en 2050\")\n",
    "valeur_a_verif4 = wr2.nri\n",
    "mode4 = 0\n",
    "\n",
    "slt4 = \"Yavkx, i'kyz kdgizksktz rg josotazout jutz tuay vgxrouty. Bkxolouty yosvrksktz wak tuay t'geuty vgy lgoz vray iusvrowak wak tkikyygoxk kt iusvgxgtz g ikzzk luxsark : c_haxrkywak.tkc_vurozoi('vvurd', 2012, 'vvurd.p - 0.02*vvurd.p*jz')\"\n",
    "\n",
    "output_4 = widgets.Output()\n",
    "output_soluce_4 = widgets.Output()\n",
    "\n",
    "button_4 = widgets.Button(description=\"Vérifier\")\n",
    "button_4.button_style = 'success'\n",
    "button_4.on_click(lambda b: verif_value_button (b, output_4, button_4, mode4, valeur_a_verif4, seuil4, msg4, msgErr4))\n",
    "\n",
    "soluce_button_4 = widgets.Button(description=\"Explications\")\n",
    "soluce_button_4.button_style = 'warning'\n",
    "soluce_button_4.on_click(lambda b: on_button_clicked_param_soluce(b, output_soluce_4, soluce_button_4, slt4))\n",
    "\n",
    "output_4.layout.display = 'none'\n",
    "output_soluce_4.layout.display = 'none'\n",
    "\n",
    "display(button_4)\n",
    "display(soluce_button_4)\n",
    "display(output_4)\n",
    "display(output_soluce_4)"
   ]
  },
  {
   "cell_type": "code",
   "execution_count": 136,
   "metadata": {},
   "outputs": [],
   "source": [
    "#Votre code ..."
   ]
  },
  {
   "cell_type": "code",
   "execution_count": 135,
   "metadata": {},
   "outputs": [
    {
     "data": {
      "application/vnd.jupyter.widget-view+json": {
       "model_id": "ccb30d7e121a4938b6fe8338ce82ed1e",
       "version_major": 2,
       "version_minor": 0
      },
      "text/plain": [
       "Button(button_style='danger', description='Correctif', style=ButtonStyle())"
      ]
     },
     "metadata": {},
     "output_type": "display_data"
    },
    {
     "data": {
      "application/vnd.jupyter.widget-view+json": {
       "model_id": "f9b6f7626bd943b9b2a1c60950baf16a",
       "version_major": 2,
       "version_minor": 0
      },
      "text/plain": [
       "Output()"
      ]
     },
     "metadata": {},
     "output_type": "display_data"
    }
   ],
   "source": [
    "correctif5 = decrypt(\"\"\"\\ncx2 = Cuxrj3(yiktgxou_tashkx=1)\\nvxotz(cx2.txo)\\ncx2.txo = 2 * cx2.txo\\ncx2.xat()\\nvrz.lomaxk()\\ncx2.vruz_cuxrj(zozrk=\\\"Yiktgxou gbki 2 luoy vray jk xkyyuaxiky otozogrky\\\")\\nvrz.ynuc() \\nvxotz(\\\"Ig g vkaz-kzxk xkzgxjk r\\'kllutjxksktz jk wakrwaky gttkky, sgoy ikrao-io kyz ktiuxk vray bourktz ... ykxgoz-ik g igayk jk rg vurrazout, wao ykshrk hkgaiuav vray krkbkk wak rk yiktgxou vxkikjktz ?\\\")\"\"\")\n",
    "\n",
    "button_5 = widgets.Button(description = \"Correctif\")\n",
    "button_5.button_style = 'danger'\n",
    "output_5 = widgets.Output()\n",
    "button_5.on_click(lambda b: execute_correctif(b,output_5,button_5,correctif5))\n",
    "\n",
    "display(button_5)\n",
    "display(output_5)"
   ]
  },
  {
   "cell_type": "markdown",
   "metadata": {},
   "source": [
    "## _Indications_: Analyse d'influence et comparaison de simulations"
   ]
  },
  {
   "cell_type": "markdown",
   "metadata": {
    "part": "3"
   },
   "source": [
    "Il est possible d'afficher un diagramme des variables avec la commande `show_influence_graph`. Par défaut, toutes les variables seront affichées, mais on peut spécifier des variables sur lesquelles se focaliser avec l'argument `variables`, et aussi combien de couches de voisinages on affiche, avec l'argument `depth`. \n",
    "\n",
    "Survoler les variables avec souris affiche leur nom et définition."
   ]
  },
  {
   "cell_type": "code",
   "execution_count": null,
   "metadata": {
    "part": "3"
   },
   "outputs": [],
   "source": [
    "w.show_influence_graph(variables=['pal', 'al'], depth = 1).show('exemple.html')"
   ]
  },
  {
   "cell_type": "markdown",
   "metadata": {
    "part": "3"
   },
   "source": [
    "\n",
    "On choisit ici de n'afficher que les voisins directs (`depth=1`) des variables ***al*** et ***j***. Le graphique est stocké dans un fichier appelé `exemple.html`.\n",
    "\n",
    "_On peut voir que les terres cultivables ***al*** (en vert au milieu) sont influencées par la vitesse d'érosion des terres **ler**, la vitesse de développement des terres **ldr** et l'artificialisation des terres **lrui**, et influence moult autres variables._"
   ]
  },
  {
   "cell_type": "markdown",
   "metadata": {
    "part": "3"
   },
   "source": [
    "On peut aussi regarder dans les partie **Out nodes** et **In nodes** de la [documentation de la variable pal](https://abaucher.gitlabpages.inria.fr/pydynamo/w3_variables/pal.html#out-nodes) "
   ]
  },
  {
   "cell_type": "markdown",
   "metadata": {},
   "source": [
    "Avec la fonction `plot_compare`, on peut comparer les résultats de deux simulations sur un même graphique. Par exemple, si je veux comparer le scénario standard `w` au scénario `pas_de_gachis`:"
   ]
  },
  {
   "cell_type": "code",
   "execution_count": null,
   "metadata": {
    "part": "3"
   },
   "outputs": [],
   "source": [
    "# Comparaison des systèmes w et w_pas_bcp_de_terres sur les variables f et al\n",
    "w.plot_compare(w_pas_de_gachis, {'f', 'al'}, rescale=True)"
   ]
  },
  {
   "cell_type": "markdown",
   "metadata": {
    "part": "3"
   },
   "source": [
    "_La production de nourriture est d'abord un petit peu plus élevée dans le scénario \"pas de gachîs\" (en pointillé) mais retombe encore plus rapidement. Pourquoi ? Voir l'explication [en bonus](#8.1.-Le-scenario-pas-de-gachîs)_"
   ]
  },
  {
   "cell_type": "markdown",
   "metadata": {
    "part": "3"
   },
   "source": [
    "On peut aussi comparer deux simulations sur le graphique des principales variables avec la fonction `plot_world_compare` !"
   ]
  },
  {
   "cell_type": "markdown",
   "metadata": {
    "part": "3"
   },
   "source": [
    "## Effets de la pollution"
   ]
  },
  {
   "cell_type": "markdown",
   "metadata": {},
   "source": [
    "Jusqu'à présent, nous avons pu observer que le manque de ressources n'est pas en soit ce qui cause un effondrement, mais bien plus la question de la pollution persistente (***ppolx***). Il est donc temps de comprendre les facteurs affectés par cette dernière. \n",
    "On distingue 4 facteurs affectés. Suarez vous retrouver ce qui cause cet effondrement, classez les par ordre d'importance dans l'impact sur l'effondrement ?  \n",
    "*Indication : Regarder le graph d'influence peut-être un bon début*"
   ]
  },
  {
   "cell_type": "code",
   "execution_count": 184,
   "metadata": {},
   "outputs": [
    {
     "data": {
      "text/plain": [
       "\"Kt xkmgxjgtz jgty rg juiasktzgzout jk rsv kz jk rljx, ut vkaz buox wak rg vurrazout otlrak gayyo yax r'kyvmxgtik jk bok rk bog rsv kz jmmxgjk rg lkxzorozm jky zkxxky rlkxz bog rljx. \""
      ]
     },
     "execution_count": 184,
     "metadata": {},
     "output_type": "execute_result"
    }
   ],
   "source": [
    "## CASE REPONSE ##\n",
    "#votre Code...\n"
   ]
  },
  {
   "cell_type": "code",
   "execution_count": 154,
   "metadata": {},
   "outputs": [],
   "source": [
    "## CASE REPONSE ##\n",
    "# Attention il n'y a pas forcement 4 variables determinantes\n",
    "\n",
    "var6_1 = \"\"\n",
    "var6_2 = \"\"\n",
    "var6_3 = \"\"\n",
    "var6_4 = \"\""
   ]
  },
  {
   "cell_type": "code",
   "execution_count": 274,
   "metadata": {},
   "outputs": [
    {
     "data": {
      "application/vnd.jupyter.widget-view+json": {
       "model_id": "ae30569b3f8343b2817d4d0c002f8c65",
       "version_major": 2,
       "version_minor": 0
      },
      "text/plain": [
       "Button(button_style='success', description='Verification', style=ButtonStyle())"
      ]
     },
     "metadata": {},
     "output_type": "display_data"
    },
    {
     "data": {
      "application/vnd.jupyter.widget-view+json": {
       "model_id": "3cd39a2fdbdb4a14a2b309893db0ac9d",
       "version_major": 2,
       "version_minor": 0
      },
      "text/plain": [
       "Button(button_style='warning', description='Explications', style=ButtonStyle())"
      ]
     },
     "metadata": {},
     "output_type": "display_data"
    },
    {
     "data": {
      "application/vnd.jupyter.widget-view+json": {
       "model_id": "c13b22f2b2e44e838a36036aa2094163",
       "version_major": 2,
       "version_minor": 0
      },
      "text/plain": [
       "Output(layout=Layout(display='none'))"
      ]
     },
     "metadata": {},
     "output_type": "display_data"
    },
    {
     "data": {
      "application/vnd.jupyter.widget-view+json": {
       "model_id": "cbab9a66af3b4120a6a9298467031c2f",
       "version_major": 2,
       "version_minor": 0
      },
      "text/plain": [
       "Output()"
      ]
     },
     "metadata": {},
     "output_type": "display_data"
    }
   ],
   "source": [
    "### Case Fonctionnement ###\n",
    "liste_reponses_6 = [var6_1,var6_2,var6_3,var6_4]\n",
    "liste_verifiee_6 = ['rsv', 'rljx', 'gnrs', 'vvzis']\n",
    "liste_verifiee_6_alt = ['rljx', 'rsv', 'gnrs', 'vvzis']\n",
    "\n",
    "indice_6 = \"I'kyz kt kllkz atk ingotk igaygrk kdoyzgtzk jgty rk sujlrk, ktzxk rk vxujaoz otjayzxokr kz r'kyvmxgtik jk bok, hokt puam. Buoio atk otjoigzout vuax rg yaozk : Rky ykxboiky jk ygtzm ja sujlrk yutz zxky jkvktjgtzy ja vxujaoz jk ykxboik vgx vkxyuttk (yuvi), atk gamsktzgzout yomtoloigzobk jk iky jkxtokxy otjmvktjgssktz jk r'kburazout ja vxujaoz jk ykxboik vkaz nzxk at jmhaz jk yurazout.\"\n",
    "\n",
    "slt6 = decrypt(encrypt(\"\"\"\n",
    "plt.figure()\n",
    "plot2 = w.plot_compare(wr2, w.get_out_nodes('ppolx'), rescale=True, title=\"Comparaison des scénarios 1 et 2 pour des variables liées à la pollution\")\n",
    "plt.show()\n",
    "\"\"\"))\n",
    "\n",
    "button_6 = widgets.Button(description=\"Verification\")\n",
    "button_6.button_style = 'success'  # 'primary', 'success', 'info', 'warning', 'danger'\n",
    "\n",
    "soluce_button_6 = widgets.Button(description=\"Explications\")\n",
    "soluce_button_6.button_style = 'warning'\n",
    "\n",
    "output_button_6 = widgets.Output()\n",
    "output_soluce_6 = widgets.Output()\n",
    "\n",
    "button_6.on_click(lambda b: verif_list_button (b, output_button_6, button_6,liste_reponses_6,liste_verifiee_6,indice_6,liste_verifiee_6_alt))\n",
    "soluce_button_6.on_click(lambda b: execute_correctif(b, output_soluce_6, soluce_button_6, slt6))\n",
    "\n",
    "output_button_6.layout.display = 'none'\n",
    "\n",
    "display(button_6)\n",
    "display(soluce_button_6)\n",
    "display(output_button_6)\n",
    "display(output_soluce_6)"
   ]
  },
  {
   "cell_type": "code",
   "execution_count": 187,
   "metadata": {},
   "outputs": [
    {
     "name": "stdout",
     "output_type": "stream",
     "text": [
      "Warning: When  cdn_resources is 'local' jupyter notebook has issues displaying graphics on chrome/safari. Use cdn_resources='in_line' or cdn_resources='remote' if you have issues viewing graphics in a notebook.\n",
      "exemple.html\n"
     ]
    },
    {
     "data": {
      "text/html": [
       "\n",
       "        <iframe\n",
       "            width=\"100%\"\n",
       "            height=\"600px\"\n",
       "            src=\"exemple.html\"\n",
       "            frameborder=\"0\"\n",
       "            allowfullscreen\n",
       "            \n",
       "        ></iframe>\n",
       "        "
      ],
      "text/plain": [
       "<IPython.lib.display.IFrame at 0x1c894bfee10>"
      ]
     },
     "execution_count": 187,
     "metadata": {},
     "output_type": "execute_result"
    }
   ],
   "source": [
    "w.show_influence_graph(variables='ppolx').show(\"exemple.html\")"
   ]
  },
  {
   "cell_type": "markdown",
   "metadata": {
    "solution2": "hidden",
    "type": "solution"
   },
   "source": [
    "En regardant dans la documentation de [lmp](https://abaucher.gitlabpages.inria.fr/pydynamo/w3_variables/lmp.html) et de [lfdr](https://abaucher.gitlabpages.inria.fr/pydynamo/w3_variables/lmp.html), on peut voir que la pollution influe aussi sur l'espérance de vie ***le*** via ***lmp*** et dégrade la fertilité des terres ***lfert*** via ***lfdr***.\n",
    "\n",
    "\n",
    "| Les pluies acides peuvent avoir pas mal d'effets néfaste sur les plantes |\n",
    "|:--:|\n",
    "| ![pluie acide](https://gitlab.inria.fr/abaucher/pydynamo/-/raw/TPworld3/images_TP/pluie_acide.jpeg) |\n",
    "\n",
    "\n",
    "| La pollution de l'air, c'est mauvais pour la santé |\n",
    "|:--:|\n",
    "| ![boule de cuivre](https://gitlab.inria.fr/abaucher/pydynamo/-/raw/TPworld3/images_TP/london_smog.jpeg) |"
   ]
  },
  {
   "cell_type": "code",
   "execution_count": 188,
   "metadata": {
    "solution2": "hidden",
    "type": "solution"
   },
   "outputs": [
    {
     "data": {
      "image/png": "[encoded data removed]",
      "text/plain": [
       "<Figure size 640x480 with 1 Axes>"
      ]
     },
     "metadata": {},
     "output_type": "display_data"
    }
   ],
   "source": [
    "# Comparaison des systèmes w et wr2 sur différentes variables\n",
    "w.plot_compare(wr2, {'ppolx', 'lmp', 'lfert'}, rescale=True, title=\"Comparaison des scénarios 1 et 2 pour des variables liées à la pollution\")"
   ]
  },
  {
   "cell_type": "markdown",
   "metadata": {
    "solution2": "hidden",
    "type": "solution"
   },
   "source": [
    "En effet, on peut voir que la pollution explose dans le scénario avec 2 fois plus de ressources, et que cela réduit fortement la fertilité des terres et l'expérance de vie.\n",
    "***"
   ]
  },
  {
   "cell_type": "markdown",
   "metadata": {},
   "source": [
    "***\n",
    "\n",
    "# 4. À vous de jouer"
   ]
  },
  {
   "cell_type": "markdown",
   "metadata": {
    "part": "4"
   },
   "source": [
    "Dans ce TP, vous essayerez d'inventer et de simuler différents scénarios souhaitables ou réalistes."
   ]
  },
  {
   "cell_type": "markdown",
   "metadata": {
    "part": "4"
   },
   "source": [
    "| Et si on avait vraiment du pouvoir ? |\n",
    "|:--:|\n",
    "| ![conseil des ministres](https://gitlab.inria.fr/abaucher/pydynamo/-/raw/TPworld3/images_TP/conseil_ministres.jpeg) |\n",
    "\n",
    "<!-- source:\n",
    "    https://www.leparisien.fr/politique/dans-les-coulisses-d-un-conseil-des-ministres-version-macron-09-08-2017-7183203.php\n",
    "--->"
   ]
  },
  {
   "cell_type": "markdown",
   "metadata": {
    "part": "4"
   },
   "source": [
    "## _Indications_: Simuler une politique s'appliquant à partir d'une certaine date"
   ]
  },
  {
   "cell_type": "markdown",
   "metadata": {
    "part": "4"
   },
   "source": [
    "Nous serons amenés, pour proposer un scénario, à changer un paramètre ou une équation, mais seulement à partir d'une certaine date d'application d'une politique, pour savoir: que se produirait-il si, à partir de cette date, le monde industrialisé se mettait à appliquer une proposition.\n",
    "\n",
    "Pour cela, plutôt que de réécrire des équations (si vous voulez quand même, voir comment faire [en annexe](#7.5.-Changer-des-équations)), on peut utiliser la fonction `new_politic`. Celle-ci prend en paramètre la valeur à changer, la date de changement, et la nouvelle valeur à attribuer. \n",
    "- Si c'est une constante, comme ***pl*** (**p**rocessing **l**oss), il suffit de donner un nouveau flottant ou entier. \n",
    "- Si c'est une table, comme ***ahlmt*** (**a**ssimilation **h**alf **l**ife **m**ultiplier **t**able), il faut fournir une table de la même taille\n",
    "- Si c'est une variable,  comme ***ppolx*** (**p**ersistent **pol**lution inde**x**), il faut founrir une nouvelle équation "
   ]
  },
  {
   "cell_type": "code",
   "execution_count": 267,
   "metadata": {
    "part": "4"
   },
   "outputs": [],
   "source": [
    "# Une nouvelle instance du modèle assez burlesque\n",
    "# Par défaut, cette commande prend le scénario 2, le plus 'réaliste' aujourd'hui\n",
    "w_burlesque = World3()\n",
    "# À partir de 1985, suite à des ateliers efficaces, on ne gâche plus de nourriture \n",
    "w_burlesque.new_politic('pl', 1985, 0)\n",
    "# À partir de 2052, à cause de la 8G, la terre assimile moins bien la pollution\n",
    "w_burlesque.new_politic('ahlmt', 2052, w.ahlmt/2)\n",
    "\n",
    "#w_burlesque.new_politic('ppolx', 2012, 'ppolx.j - 0.02*ppolx.j*dt')"
   ]
  },
  {
   "cell_type": "code",
   "execution_count": null,
   "metadata": {},
   "outputs": [],
   "source": []
  },
  {
   "cell_type": "markdown",
   "metadata": {},
   "source": [
    "Dans cette perspective de modifier les équations du modèle, essayons de transformer celle de la pollution persistente en imaginant que par miracle, nous parvenions à la faire baisser de 2% par an à partir de 2012. "
   ]
  },
  {
   "cell_type": "code",
   "execution_count": 268,
   "metadata": {},
   "outputs": [],
   "source": [
    "## CASE REPONSE ##\n",
    "#votre code ...\n"
   ]
  },
  {
   "cell_type": "code",
   "execution_count": 277,
   "metadata": {},
   "outputs": [
    {
     "data": {
      "application/vnd.jupyter.widget-view+json": {
       "model_id": "d917c2cd60ab42bba4b7332b63e9ddf6",
       "version_major": 2,
       "version_minor": 0
      },
      "text/plain": [
       "Button(button_style='success', description='Vérifier', style=ButtonStyle())"
      ]
     },
     "metadata": {},
     "output_type": "display_data"
    },
    {
     "data": {
      "application/vnd.jupyter.widget-view+json": {
       "model_id": "2ffd6d3adc2447a09ade811349c7560f",
       "version_major": 2,
       "version_minor": 0
      },
      "text/plain": [
       "Output(layout=Layout(display='none'))"
      ]
     },
     "metadata": {},
     "output_type": "display_data"
    },
    {
     "data": {
      "application/vnd.jupyter.widget-view+json": {
       "model_id": "4f8b08c6c46f4b25970b087beac4d4b7",
       "version_major": 2,
       "version_minor": 0
      },
      "text/plain": [
       "Button(button_style='warning', description='Explications', style=ButtonStyle())"
      ]
     },
     "metadata": {},
     "output_type": "display_data"
    },
    {
     "data": {
      "application/vnd.jupyter.widget-view+json": {
       "model_id": "dd61fbf5d54a455f8788a8fd609408fb",
       "version_major": 2,
       "version_minor": 0
      },
      "text/plain": [
       "Output(layout=Layout(display='none'))"
      ]
     },
     "metadata": {},
     "output_type": "display_data"
    }
   ],
   "source": [
    "### Case de foncitonnement ###\n",
    "w_burlesque.run()\n",
    "seuil7_1 = 2.5430404627638206\n",
    "seuil7_2 = w.ppolx[290]\n",
    "msg7_1 = \"Yavkx, i'kyz kdgizksktz rg josotazout jutz tuay vgxrouty. Bkxolouty yosvrksktz wak tuay t'geuty vgy lgoz vray iusvrowak wak tkikyygoxk kt iusvgxgtz g ikzzk luxsark : c_haxrkywak.tkc_vurozoi('vvurd', 2012, 'vvurd.p - 0.02*vvurd.p*jz')\"\n",
    "msg7_2 = \"Boyohrksktz buay gbkf zxuabk iussktz lgoxk jkixuozxk rg vurrazout vkxyoyzgtzk jgty rk sujkrk. Zuazkluoy, tuay inkxinouty atk hgoyyk jk 2%: Ikzzk luxsark kyz ikrrk wao gzzkotz ikz uhpkizol : c_haxrkywak.tkc_vurozoi('vvurd', 2012, 'vvurd.p - 0.02*vvurd.p*jz')\"\n",
    "msgErr7 = encrypt(\"C'est excellent que vous fassiez des essais, mais pour le moment, on ne constate pas de baisse semblable à -2% en 2050\")\n",
    "valeur_a_verif7 = w_burlesque.ppolx[290]\n",
    "mode7 = 1\n",
    "\n",
    "slt7 = \"Yavkx, i'kyz kdgizksktz rg josotazout jutz tuay vgxrouty. Bkxolouty yosvrksktz wak tuay t'geuty vgy lgoz vray iusvrowak wak tkikyygoxk kt iusvgxgtz g ikzzk luxsark : c_haxrkywak.tkc_vurozoi('vvurd', 2012, 'vvurd.p - 0.02*vvurd.p*jz')\"\n",
    "\n",
    "output_7 = widgets.Output()\n",
    "output_soluce_7 = widgets.Output()\n",
    "\n",
    "bouton_7 = widgets.Button(description=\"Vérifier\")\n",
    "bouton_7.button_style = 'success'\n",
    "bouton_7.on_click(lambda b: verif_value_button (b, output_7, bouton_7, mode7, valeur_a_verif7, seuil7_1, msg7_1,msgErr7, seuil7_2, msg7_2))\n",
    "\n",
    "soluce_button_7 = widgets.Button(description=\"Explications\")\n",
    "soluce_button_7.button_style = 'warning'\n",
    "soluce_button_7.on_click(lambda b: on_button_clicked_param_soluce(b, output_soluce_7, soluce_button_7, slt7))\n",
    "\n",
    "output_7.layout.display = 'none'\n",
    "output_soluce_7.layout.display = 'none'\n",
    "\n",
    "display(bouton_7)\n",
    "display(output_7)\n",
    "\n",
    "display(soluce_button_7)\n",
    "display(output_soluce_7)\n"
   ]
  },
  {
   "cell_type": "code",
   "execution_count": 264,
   "metadata": {},
   "outputs": [
    {
     "data": {
      "application/vnd.jupyter.widget-view+json": {
       "model_id": "d069d31d2b164b80964c8fcc43417c91",
       "version_major": 2,
       "version_minor": 0
      },
      "text/plain": [
       "Button(button_style='success', description='Votre Proposition', style=ButtonStyle())"
      ]
     },
     "metadata": {},
     "output_type": "display_data"
    },
    {
     "data": {
      "application/vnd.jupyter.widget-view+json": {
       "model_id": "df5c0b18a35b4b4290fef84f1172d19f",
       "version_major": 2,
       "version_minor": 0
      },
      "text/plain": [
       "Output()"
      ]
     },
     "metadata": {},
     "output_type": "display_data"
    },
    {
     "data": {
      "application/vnd.jupyter.widget-view+json": {
       "model_id": "d6bdcf1eacd44060a8979beeb310758f",
       "version_major": 2,
       "version_minor": 0
      },
      "text/plain": [
       "Button(button_style='danger', description='Correctif', style=ButtonStyle())"
      ]
     },
     "metadata": {},
     "output_type": "display_data"
    },
    {
     "data": {
      "application/vnd.jupyter.widget-view+json": {
       "model_id": "5e49ee0a05a84a05accd782f044d354c",
       "version_major": 2,
       "version_minor": 0
      },
      "text/plain": [
       "Output()"
      ]
     },
     "metadata": {},
     "output_type": "display_data"
    }
   ],
   "source": [
    "# À partir de 2012, par miracle, l'indice de pollution persistente ppolx décroit de 2% par an\n",
    "correctif_8 = decrypt(\"\"\"\n",
    "\\nc_haxrkywak = Cuxrj3()\\nc_haxrkywak.tkc_vurozoi(\\'vr\\', 1985, 0)\\nc_haxrkywak.tkc_vurozoi(\\'gnrsz\\', 2052, c_haxrkywak.gnrsz/2)\\nc_haxrkywak.tkc_vurozoi(\\'vvurd\\', 2012, \\'vvurd.p - 0.02*vvurd.p*jz\\')\\nc_haxrkywak.xat()\\n\\nvrz.lomaxk(lomyofk=(10, 5))\\nc_haxrkywak.vruz([\\'vr\\', \\'gnrs\\', \\'vvurd\\'], xkyigrk=Zxak)\\nvrz.zozrk(\"Ik wao yk vgyyk gbki atk xmjaizout jk rg vurrazout vkxyoyzktzk jk 2% vgx gt d vgxzox jk 2012\")\\nvrz.ynuc()\"\"\")\n",
    "\n",
    "\n",
    "actuel_graph_8 = decrypt(\"\"\"\n",
    "\\nvrz.lomaxk(lomyofk=(10, 5))\\nc_haxrkywak.vruz([\\'vr\\', \\'gnrs\\', \\'vvurd\\'], xkyigrk=Zxak)\\nvrz.zozrk(\"Ik wak buzxk iutlomaxgzout vxujaoz\")\\nvrz.ynuc()\n",
    "\"\"\")\n",
    "\n",
    "output_correctif_8 = widgets.Output()\n",
    "output_actuel_graph_8 = widgets.Output()\n",
    "\n",
    "correctif_button_8 = widgets.Button(description=\"Correctif\")\n",
    "actuel_graph_bouton_8 = widgets.Button(description = \"Votre Proposition\")\n",
    "\n",
    "correctif_button_8.button_style = 'danger'\n",
    "actuel_graph_bouton_8.button_style = 'success'\n",
    "#bouton_correctif_1.on_click(lambda b: on_button_clicked_applique_correctif(b, output_correctif_1, bouton_correctif1, correctif_1))\n",
    "correctif_button_8.on_click(lambda b: execute_correctif(b,output_correctif_8, correctif_button_8, correctif_8))\n",
    "actuel_graph_bouton_8.on_click(lambda b: execute_correctif(b,output_actuel_graph_8,actuel_graph_bouton_8,actuel_graph_8))\n",
    "\n",
    "display(actuel_graph_bouton_8)\n",
    "display(output_actuel_graph_8)\n",
    "\n",
    "display(correctif_button_8)\n",
    "display(output_correctif_8)"
   ]
  },
  {
   "cell_type": "markdown",
   "metadata": {
    "part": "4"
   },
   "source": [
    "_On voit_\n",
    "- _le gachis de nourriture ***pl*** changer de valeur en 1985,_\n",
    "- _l'assimilation de la pollution ***ahlm*** changer brutalement de comportement à partir de 2052 à cause du changement dans la table ***ahlmt***,_ \n",
    "- _et enfin l'index de pollution ***ppolx*** baisser avec sa nouvelle équation à partir de 2012._"
   ]
  },
  {
   "cell_type": "markdown",
   "metadata": {
    "part": "4"
   },
   "source": [
    "**Attention !** à ne pas exécuter 2 fois la même nouvelle politique sur une même instance, ça risque de faire du dégat: n'oubliez pas de réinitialiser l'instance avant."
   ]
  },
  {
   "cell_type": "markdown",
   "metadata": {},
   "source": [
    "***\n",
    "\n",
    "# 6. ___Choix d'exploration: Décroissance___"
   ]
  },
  {
   "cell_type": "markdown",
   "metadata": {
    "part": "6"
   },
   "source": [
    "Une décroissance volontaire du produit industriel n'a jamais été envisagée par les auteur.e.s de Limits To Growth. Et si on l'implémentait ? On comprendra un peu mieux comment ont été modélisées les dynamiques de la croissance industrielle, et ce qu'il faudrait changer pour y échapper."
   ]
  },
  {
   "cell_type": "markdown",
   "metadata": {
    "type": "question"
   },
   "source": [
    "> ### Question Légitime\n",
    "\n",
    "> Quelle est la variable dont il faudrait revoir l'evolution pour se rapprocher au mieux d'une politique de décroissance ?"
   ]
  },
  {
   "cell_type": "code",
   "execution_count": null,
   "metadata": {},
   "outputs": [],
   "source": [
    "Variable_a_modifier = \"Votre Reponse ..?\" # Attention, il faut l'ecrire entre guillemets\n",
    "\n",
    "#################################\n",
    "rep14 = Variable_a_modifier    ##"
   ]
  },
  {
   "cell_type": "code",
   "execution_count": 64,
   "metadata": {},
   "outputs": [
    {
     "data": {
      "application/vnd.jupyter.widget-view+json": {
       "model_id": "ba320fdef38e45efbf4cf4194d8f631d",
       "version_major": 2,
       "version_minor": 0
      },
      "text/plain": [
       "Button(button_style='success', description='Verification', style=ButtonStyle())"
      ]
     },
     "metadata": {},
     "output_type": "display_data"
    },
    {
     "data": {
      "application/vnd.jupyter.widget-view+json": {
       "model_id": "5ea45be8983142bc8792780255d766cc",
       "version_major": 2,
       "version_minor": 0
      },
      "text/plain": [
       "Button(button_style='warning', description='Explications', style=ButtonStyle())"
      ]
     },
     "metadata": {},
     "output_type": "display_data"
    },
    {
     "data": {
      "application/vnd.jupyter.widget-view+json": {
       "model_id": "f398a46acc9e43cb9d683ce8cdf11364",
       "version_major": 2,
       "version_minor": 0
      },
      "text/plain": [
       "Output(layout=Layout(display='none'))"
      ]
     },
     "metadata": {},
     "output_type": "display_data"
    },
    {
     "data": {
      "application/vnd.jupyter.widget-view+json": {
       "model_id": "806a3dc899e242668455a17740a5a2bf",
       "version_major": 2,
       "version_minor": 0
      },
      "text/plain": [
       "Output(layout=Layout(display='none'))"
      ]
     },
     "metadata": {},
     "output_type": "display_data"
    }
   ],
   "source": [
    "att14 = \"ou\"\n",
    "msg14 = \"Kdgizksktz, ut iutyzgzk at kllutjxksktz otjayzxokr, gizakrrksktz yuirk kyyktzokr d tuzxk sujk jk bok.\"\n",
    "\n",
    "slt14 = \"Rg bgxoghrk g sujolokx jgty tuzxk sujkrk kyz ou (rk vxujaoz otjayzxokr), kz vray vxkioyksktz, yg zktjgtik g ixuozxk, j'ua rk zkxsk jkixuoyygtik.\"\n",
    "\n",
    "button_14 = widgets.Button(description=\"Verification\")\n",
    "button_14.button_style = 'success'  # 'primary', 'success', 'info', 'warning', 'danger'\n",
    "\n",
    "soluce_14 = widgets.Button(description=\"Explications\")\n",
    "soluce_14.button_style = 'warning'\n",
    "\n",
    "output_button_14 = widgets.Output()\n",
    "output_soluce_14 = widgets.Output()\n",
    "\n",
    "button_14.on_click(lambda b: on_button_clicked_param(b, output_button_14, button_14, msg14, rep14, att14))\n",
    "soluce_14.on_click(lambda b: on_button_clicked_param_soluce(b, output_soluce_14, soluce_14, slt14))\n",
    "\n",
    "output_button_14.layout.display = 'none'\n",
    "output_soluce_14.layout.display = 'none'\n",
    "\n",
    "display(button_14)\n",
    "display(soluce_14)\n",
    "display(output_button_14)\n",
    "display(output_soluce_14)"
   ]
  },
  {
   "cell_type": "markdown",
   "metadata": {
    "solution2": "hidden",
    "type": "solution"
   },
   "source": [
    "***\n",
    "\n",
    "> ### Caractéristiques actuelles de la décroissance\n",
    "\n",
    "On entend régulièrement dire, par le GIEC ou le Shift Project par exemple, qu'il faudrait réduire de $X$ pourcents avec $X\\approx 5$ par an notre pollution, ou notre production industrielle, pour arriver à un système soutenable . L'idée est donc d'implementer de nouvelles équations pour le produit industriel ***io*** (**i**ndustrial **o**utput) à partir de 2002, en le faisant décroitre de 5% par an.\n",
    "\n",
    "| Scénario Négawatt  |\n",
    "| :--: |\n",
    "| ![scénario negawatt](https://gitlab.inria.fr/abaucher/pydynamo/-/raw/TPworld3/images_TP/negawatt.png)\n",
    "|\n",
    "| [En savoir plus](https://www.negawatt.org/scenario) |\n",
    "***"
   ]
  },
  {
   "cell_type": "code",
   "execution_count": null,
   "metadata": {},
   "outputs": [],
   "source": [
    "# Votre code ..."
   ]
  },
  {
   "cell_type": "markdown",
   "metadata": {
    "solution2": "hidden",
    "type": "solution"
   },
   "source": [
    "> ### Solution 6.16"
   ]
  },
  {
   "cell_type": "markdown",
   "metadata": {
    "type": "question"
   },
   "source": [
    "> ### Exercice 6.17\n",
    "\n",
    "> Proposer une nouvelle équation pour le produit industriel. S'aider de la partie [À vous de jouer](#4.-À-vous-de-jouer), pour le changement d'équation de variable, et utiliser la valeur au temps précédent `io.j`. L'équation n'est pas forcément évidente, regarder la solution avant de faire la suite.\n",
    "\n",
    "> Implémenter cette équation dans une nouvelle politique à partir de 2002, dans une nouvelle instance de World3. Afficher le graphique global avec `plot_world`."
   ]
  },
  {
   "cell_type": "code",
   "execution_count": null,
   "metadata": {},
   "outputs": [],
   "source": [
    "# Votre code ..."
   ]
  },
  {
   "cell_type": "markdown",
   "metadata": {
    "solution2": "hidden",
    "type": "solution"
   },
   "source": [
    "> ### Solution 6.17"
   ]
  },
  {
   "cell_type": "markdown",
   "metadata": {
    "solution2": "hidden",
    "type": "solution"
   },
   "source": [
    "***\n",
    "\n",
    "> ### Solution 6.17 Implémentation de la décroissance\n",
    "À chaque pas de temps, on fait décroitre ***io*** de 5%. Donc pour calculer ***io*** au temps actuel (***io.k***), on enlève 5% de sa valeur au temps précédent (***io.j***) tous les pas de temps ***dt***:\n",
    "\n",
    "    io.k = io.j - 0.05*dt*io.j"
   ]
  },
  {
   "cell_type": "code",
   "execution_count": null,
   "metadata": {
    "solution2": "hidden",
    "type": "solution"
   },
   "outputs": [],
   "source": [
    "# On ajoute une nouvelle politique pour io au modèle World3\n",
    "w_dec = World3()\n",
    "w_dec.new_politic('io', 2002, 'io.j  - 0.05*dt*io.j')\n",
    "w_dec.run()\n",
    "w_dec.plot_world(title=\"Scénario de décroissance industrielle\")"
   ]
  },
  {
   "cell_type": "markdown",
   "metadata": {
    "solution2": "hidden",
    "type": "solution"
   },
   "source": [
    "Flûte ! On a bien un impact réduit mais on tombe sur un effondrement de la population, de l'espérance de vie, de la nourritre, du \"bien-être\" ... mais pourquoi ?\n",
    "\n",
    "***"
   ]
  },
  {
   "cell_type": "markdown",
   "metadata": {
    "type": "question"
   },
   "source": [
    "> ### Exercice 6.18\n",
    "\n",
    "> En affichant l'évolution de quelques variables clés comme l'espérance de vie ***le*** (**l**ife **e**xpectancy), le bien être humain **hwi** (**h**uman **w**elfare **i**ndex), la fertilité totale ***tf*** (**t**otal **f**ertility), les morts ***d*** (**d**eath) conclure sur la dépendance que le modèle World3 attribue à l'industrie."
   ]
  },
  {
   "cell_type": "code",
   "execution_count": null,
   "metadata": {},
   "outputs": [],
   "source": [
    "# Votre code ..."
   ]
  },
  {
   "cell_type": "markdown",
   "metadata": {
    "solution2": "hidden",
    "type": "solution"
   },
   "source": [
    "> ### Solution 6.18"
   ]
  },
  {
   "cell_type": "markdown",
   "metadata": {
    "solution2": "hidden",
    "type": "solution"
   },
   "source": [
    "***\n",
    "\n",
    "> ### Solution 6.18 Interprétation de la décroissance"
   ]
  },
  {
   "cell_type": "code",
   "execution_count": null,
   "metadata": {
    "solution2": "hidden",
    "type": "solution"
   },
   "outputs": [],
   "source": [
    "w_dec.plot(['iopc', 'pop', 'hwi', 'tf', 'd', 'le'], rescale=True, title=\"Quelques variables clés dans le scénario de la décroissance\")"
   ]
  },
  {
   "cell_type": "code",
   "execution_count": null,
   "metadata": {},
   "outputs": [],
   "source": [
    "w_dec.plot(['io', 'f', 'sc'], rescale=True, title=\"Comparaison du produit industriel avec les ressources alimentaires et la capacité de services (santé, etc)\")"
   ]
  },
  {
   "cell_type": "markdown",
   "metadata": {
    "solution2": "hidden",
    "type": "solution"
   },
   "source": [
    "On a bien une baisse fulgurante de la production industrielle par personne, et cela semble causer \n",
    "- une augmentation du nombre de morts et \n",
    "- et une réduction de la fertilité ..."
   ]
  },
  {
   "cell_type": "markdown",
   "metadata": {
    "solution2": "hidden",
    "type": "solution"
   },
   "source": [
    "#### Pour résumer:\n",
    "**On a un effondrement de la population causé par une augmentation de la mortalité et une baisse de la fertilité  dus au manque de soin et de nourriture ... qui ont sont dépendants de l'industrie, condition également nécessaire au \"bien-être\"**\n",
    "#### D'accord mais ... des alternatives sont possibles non ?! \n",
    "On voit ici à quel point le modèle World3 ne représente que les dynamiques d'une civilisation indsutrielle en croissance. Un système de santé autonome ne dépendant pas de la technologie, une agriculture sans intrants agricoles, des normes sociales plus indépendantes du revenu, etc., ne sont pas des solutions que le modèle est en mesure de considérer. Les équations ont été écrites dans un contexte et une vision politique spécifique. Par exemple en considérant que l'industrie est une condition nécessaire à l'école, parce qu'aujourd'hui, les pays les plus industrialisés disposent de plus de services éducatifs. \n",
    "- C'est pourquoi il est nécessaire de prendre de la distance avec cette représentation du monde: elle est spécifique à une certaine vision d'une époque précise.\n",
    "\n",
    "| American way of life  |\n",
    "| :--: |\n",
    "| ![affiche](https://gitlab.inria.fr/abaucher/pydynamo/-/raw/TPworld3/images_TP/american.jpeg)\n",
    "\n",
    "***"
   ]
  },
  {
   "cell_type": "markdown",
   "metadata": {},
   "source": [
    "*** \n",
    "\n",
    "# 6.1. Conception d'alternatives"
   ]
  },
  {
   "cell_type": "markdown",
   "metadata": {
    "part": "6.1"
   },
   "source": [
    "L'espérance de vie ***le*** est calculée comme un produit de plusieurs valeurs, l'espérance de vie \"normale\" ***len*** (**l**ife **e**xpectancy **n**ormal) et des facteurs (**l**ifetime **m**ultiplier) liés à différents domaines (santé, densité, alimentation et pollution de l'air). On voit que dans le graphique suivant, ceux-ci s'effondrent dès qu'on réduit la production industrielle ... "
   ]
  },
  {
   "cell_type": "code",
   "execution_count": null,
   "metadata": {
    "part": "6.1"
   },
   "outputs": [],
   "source": [
    "print(w_dec.definition('le'))\n",
    "print(w_dec.equation('le'))\n",
    "w_dec.plot(['lmhs', 'lmc', 'lmf', 'lmp'], title=\"L'espérance de vie et la décroissance\")"
   ]
  },
  {
   "cell_type": "markdown",
   "metadata": {
    "part": "6.1"
   },
   "source": [
    "Que faudrait-il changer dans le système pour que ce ne soit plus le cas ? Pour chaque facteur, nous allons essayer de voir comment il est calculé, puis de concevoir une alternative pour éviter de le rendre dépendant de l'industrie. À la fin, nous tenterons de réunir ces alternatives."
   ]
  },
  {
   "cell_type": "markdown",
   "metadata": {},
   "source": [
    "***\n",
    "\n",
    "# 6.1.1. Alternatives pour la santé"
   ]
  },
  {
   "cell_type": "markdown",
   "metadata": {
    "type": "question"
   },
   "source": [
    "> ### Exercice 6.1.1.19\n",
    "\n",
    "> En remontant les équations de ***lmhs*** (**l**ifetime **m**ultiplier from **h**ealth **s**ervices), identifiez la chaîne qui lie la santé à la production de services par personne ***sopc***.  Regarder ensuite comment celle-ci est liée à la production industrielle ***io*** (piste: passer par le capital et les investissements). Utiliser [la documentation](https://abaucher.gitlabpages.inria.fr/pydynamo/w3_variables/lmhs.html) ou la commande `show_influence_graph` est bien pratique !\n",
    "\n",
    "_Précision et rappel: Un multiplier est un facteur entre 0 et 1 (ou un peu plus) qui va multiplier une autre valeur pour l'augmenter ou la réduire. Ici, il représente l'aumgentation ou la baisse d'espérance de vie due aux services de soins suffisants ou non._"
   ]
  },
  {
   "cell_type": "markdown",
   "metadata": {},
   "source": [
    "Il existe une chaine minimale de 8 variables qui relie le produit industriel et le multiplicateur d'espérance de vie en fonction des services de santé (***lmhs***), saurez vous la retrouver ?\n",
    "Un bon moyen de verifier et comprendre cet enchainement serait d'afficher le graphique d'ifluence entre ces variables."
   ]
  },
  {
   "cell_type": "code",
   "execution_count": 67,
   "metadata": {},
   "outputs": [],
   "source": [
    "## CASE REPONSE ##\n",
    "var1 = \"io\"\n",
    "var2 = \"scir\" #\"votre reponse\"\n",
    "var3 = \"s\" #\"votre reponse\"\n",
    "var4 = \"so\" #\"votre reponse\"\n",
    "var5 = \"sopc\" #\"votre reponse\"\n",
    "var6 = \"hsapc\" #\"votre reponse\"\n",
    "var7 = \"ehspc\" #\"votre reponse\"\n",
    "var8 = \"lmhs2\" #\"votre reponse\"\n",
    "var9 = \"lmhs\""
   ]
  },
  {
   "cell_type": "code",
   "execution_count": 68,
   "metadata": {},
   "outputs": [
    {
     "data": {
      "application/vnd.jupyter.widget-view+json": {
       "model_id": "99bff83eb0a54a129feff4745fd0336e",
       "version_major": 2,
       "version_minor": 0
      },
      "text/plain": [
       "Button(button_style='success', description='Verification', style=ButtonStyle())"
      ]
     },
     "metadata": {},
     "output_type": "display_data"
    },
    {
     "data": {
      "application/vnd.jupyter.widget-view+json": {
       "model_id": "9b90167d00f942ff83ed030ba8d3fe0e",
       "version_major": 2,
       "version_minor": 0
      },
      "text/plain": [
       "Button(button_style='warning', description='Explications', style=ButtonStyle())"
      ]
     },
     "metadata": {},
     "output_type": "display_data"
    },
    {
     "data": {
      "application/vnd.jupyter.widget-view+json": {
       "model_id": "2b4b7d36232245b09ab9bcf76bac51c9",
       "version_major": 2,
       "version_minor": 0
      },
      "text/plain": [
       "Output(layout=Layout(display='none'))"
      ]
     },
     "metadata": {},
     "output_type": "display_data"
    },
    {
     "data": {
      "application/vnd.jupyter.widget-view+json": {
       "model_id": "5924f25a004447f29de06195406c509c",
       "version_major": 2,
       "version_minor": 0
      },
      "text/plain": [
       "Output()"
      ]
     },
     "metadata": {},
     "output_type": "display_data"
    }
   ],
   "source": [
    "### Case Fonctionnement ###\n",
    "liste_reponses_1 = [var2,var3,var4,var5,var6,var7,var8]\n",
    "liste_verifiee_1 = ['yiox', 'yi', 'yu', 'yuvi', 'nygvi', 'knyvi', 'rsny2']\n",
    "liste_verifiee_1_alt = ['yiox', 'yi', 'yu', 'yuvi', 'nygvi', 'knyvi', 'rsny1']\n",
    "\n",
    "indice_15 = \"I'kyz kt kllkz atk ingotk igaygrk kdoyzgtzk jgty rk sujlrk, ktzxk rk vxujaoz otjayzxokr kz r'kyvmxgtik jk bok, hokt puam. Buoio atk otjoigzout vuax rg yaozk : Rky ykxboiky jk ygtzm ja sujlrk yutz zxky jkvktjgtzy ja vxujaoz jk ykxboik vgx vkxyuttk (yuvi), atk gamsktzgzout yomtoloigzobk jk iky jkxtokxy otjmvktjgssktz jk r'kburazout ja vxujaoz jk ykxboik vkaz nzxk at jmhaz jk yurazout.\"\n",
    "\n",
    "\n",
    "button_15 = widgets.Button(description=\"Verification\")\n",
    "button_15.button_style = 'success'  # 'primary', 'success', 'info', 'warning', 'danger'\n",
    "\n",
    "soluce_15 = widgets.Button(description=\"Explications\")\n",
    "soluce_15.button_style = 'warning'\n",
    "\n",
    "output_button_15 = widgets.Output()\n",
    "output_soluce_15 = widgets.Output()\n",
    "\n",
    "button_15.on_click(lambda b: verif_list_button (b, output_button_15, button_15,liste_reponses_1,liste_verifiee_1,indice_15,liste_verifiee_1_alt))\n",
    "#soluce_15.on_click(lambda b: on_button_clicked_param_soluce(b, output_soluce_15, soluce_15, slt14))\n",
    "\n",
    "output_button_15.layout.display = 'none'\n",
    "#output_soluce_14.layout.display = 'none'\n",
    "\n",
    "display(button_15)\n",
    "display(soluce_15)\n",
    "display(output_button_15)\n",
    "display(output_soluce_15)\n"
   ]
  },
  {
   "cell_type": "markdown",
   "metadata": {
    "solution2": "hidden",
    "type": "solution"
   },
   "source": [
    "> ### Solution 6.1.1.19"
   ]
  },
  {
   "cell_type": "markdown",
   "metadata": {
    "solution2": "hidden",
    "type": "solution"
   },
   "source": [
    "***\n",
    "\n",
    "> ### Solution 6.1.1.19 La chaîne de la santé"
   ]
  },
  {
   "cell_type": "code",
   "execution_count": null,
   "metadata": {
    "solution2": "hidden",
    "type": "solution"
   },
   "outputs": [],
   "source": [
    "# Affichage des équations\n",
    "for i, variable in enumerate(('scir', 'sc', 'so', 'sopc', 'hsapc', 'ehspc', 'lmhs2', 'lmhs')):\n",
    "    print(i + 1, variable, ':', w.definition(variable))\n",
    "    print('', w.equation(variable)) \n",
    "\n",
    "# Affichage du graphe des influences\n",
    "w_dec.show_influence_graph(variables=['scir', 'sc', 'so', 'sopc', 'hsapc', 'ehspc', 'lmhs2', 'lmhs'], depth=1).show('sante.html')"
   ]
  },
  {
   "cell_type": "markdown",
   "metadata": {
    "solution2": "hidden",
    "type": "solution"
   },
   "source": [
    "1. La production industrielle ***io*** détermine l'investissement dans le capital de service ***scir***\n",
    "2. Qui augmentent ou réduisent le captial de service ***sc***\n",
    "3. À partir duquel sont calculés les services produits ***so***\n",
    "4. Dont on déduit les services par personne ***soc***\n",
    "5. Qui déterminent les services de santé par personne ***hsapc***\n",
    "6. Qui, avec un peu de retard, deviennent les services de santés effectifs par personne ***ehspc***\n",
    "7. À partir desquels sont calculés ***lmhs2***, \n",
    "8. Puis ***lmhs***"
   ]
  },
  {
   "cell_type": "markdown",
   "metadata": {
    "solution2": "hidden",
    "type": "solution"
   },
   "source": [
    "C'est sûr qu'avec des soins complétement dépendants de la production industrielle, on va avoir du mal avec une décroissance de celle-ci ... Et si, à partir de maintenant, une plus grande autonomie dans les pratiques de santé (habitudes alimentaires, remèdes autonomes simples, etc.) permettait à la population de minimiser sa dépendance à la production de services par personne ?\n",
    "\n",
    "\n",
    "| La dépendance à l'industrie pharmaceutique pour se soigner est-elle nécessaire ?|\n",
    "| :--: |\n",
    "| ![medicaments](https://gitlab.inria.fr/abaucher/pydynamo/-/raw/TPworld3/images_TP/medicaments.jpeg)\n",
    "|\n",
    "| [En savoir plus](https://www.akklesia.eu/public/pdf_gratuit/_Nemesis_ILLICH.pdf) |\n",
    "\n",
    "***"
   ]
  },
  {
   "cell_type": "markdown",
   "metadata": {
    "type": "question"
   },
   "source": [
    "> ### Exercice 6.1.1.20\n",
    "\n",
    "> Que pourrait on modifier dans cette chaine pour rendre la santé plus indépendante de l'industrie ? Une variable de cette chaîne en particulier dispose d'une fonction non-linéaire qui rend compte de la dépendance des services de santé à la quantité de services par personne."
   ]
  },
  {
   "cell_type": "code",
   "execution_count": null,
   "metadata": {},
   "outputs": [],
   "source": [
    "# Votre code ..."
   ]
  },
  {
   "cell_type": "markdown",
   "metadata": {
    "solution2": "hidden",
    "type": "solution"
   },
   "source": [
    "> ### Solution 6.1.1.20"
   ]
  },
  {
   "cell_type": "markdown",
   "metadata": {
    "solution2": "hidden",
    "type": "solution"
   },
   "source": [
    "***\n",
    "\n",
    "> ### Solution 6.1.1.20 La variable de la non-autonomie\n",
    "\n",
    "Avec des soins plus autonomes, donc non dépendants du produit total de services, j'aurais personellement proposé de réduire (**h**ealth **s**ervices **p**er **c**apita) la dépendance de ***hsapc*** avec ***sopc*** (**s**ervice **o**utput **p**er **c**apita), dont on voit la fonction non linéaire ci-dessous:"
   ]
  },
  {
   "cell_type": "code",
   "execution_count": null,
   "metadata": {
    "solution2": "hidden",
    "type": "solution"
   },
   "outputs": [],
   "source": [
    "w_dec.plot_non_linearity('hsapc')\n",
    "print(w_dec.hsapct)"
   ]
  },
  {
   "cell_type": "markdown",
   "metadata": {
    "solution2": "hidden",
    "type": "solution"
   },
   "source": [
    "***"
   ]
  },
  {
   "cell_type": "markdown",
   "metadata": {
    "type": "question"
   },
   "source": [
    "> ### Exercice 6.1.1.21\n",
    "\n",
    "> Essayer de concevoir une nouvelle table pour la fonction non linéaire de la variable précédente, qui rendrait les services de santé beaucoup plus autonomes par rapport aux services totaux par personne."
   ]
  },
  {
   "cell_type": "code",
   "execution_count": null,
   "metadata": {},
   "outputs": [],
   "source": [
    "# Votre code ..."
   ]
  },
  {
   "cell_type": "markdown",
   "metadata": {
    "solution2": "hidden",
    "type": "solution"
   },
   "source": [
    "> ### Solution 6.1.1.21"
   ]
  },
  {
   "cell_type": "markdown",
   "metadata": {
    "solution2": "hidden",
    "type": "solution"
   },
   "source": [
    "***\n",
    "\n",
    "> ### Solution 6.1.1.21 Concevoir l'autonomie en matière de santé\n",
    "\n",
    "Les services de soins par personne ***hapc*** sont une fonction non linéaire des services par personne ***sopc***, relié par la table ***hsapct***. Pour changer cette dépendance, je proposerais d'augmenter ***hsapc*** un peu partout, pour qu'elle ressemble plutôt à ça:"
   ]
  },
  {
   "cell_type": "code",
   "execution_count": null,
   "metadata": {
    "solution2": "hidden",
    "type": "solution"
   },
   "outputs": [],
   "source": [
    "nouvelle_table_hsapct = [100, 130, 155, 175, 190, 205, 220, 227, 230]\n",
    "ancienne_table_hsapct = w.hsapct\n",
    "plt.plot(ancienne_table_hsapct)\n",
    "plt.plot(nouvelle_table_hsapct)\n",
    "plt.legend(['ancienne table', 'nouvelle_table'])\n",
    "plt.title('Soins par personne en fonction des services totaux par personne');"
   ]
  },
  {
   "cell_type": "markdown",
   "metadata": {
    "solution2": "hidden",
    "type": "solution"
   },
   "source": [
    "***"
   ]
  },
  {
   "cell_type": "markdown",
   "metadata": {
    "type": "question"
   },
   "source": [
    "> ### Exercice 6.1.1.22\n",
    "\n",
    "> Créer une instance copie du scénario de décroissance, et y ajouter une politique (aide dans la partie [À vous de jouer](#4.-À-vous-de-jouer)). Relancer la simulation, et comparer l'évolution de  l'espérance de vie ***le***, ainsi que les 3 facteurs ***lmhs***, ***lmf** et ***lmc*** par rapport à la première décroissance. A-t-on réussi ? Quelle est la principale limite ?"
   ]
  },
  {
   "cell_type": "code",
   "execution_count": null,
   "metadata": {},
   "outputs": [],
   "source": [
    "# Votre code ..."
   ]
  },
  {
   "cell_type": "markdown",
   "metadata": {
    "solution2": "hidden",
    "type": "solution"
   },
   "source": [
    "> ### Solution 6.1.1.22"
   ]
  },
  {
   "cell_type": "markdown",
   "metadata": {
    "solution2": "hidden",
    "type": "solution"
   },
   "source": [
    "***\n",
    "\n",
    "> ### Solution 6.1.1.22 Implémenter l'autonomie en matière de santé"
   ]
  },
  {
   "cell_type": "code",
   "execution_count": null,
   "metadata": {
    "solution2": "hidden",
    "type": "solution"
   },
   "outputs": [],
   "source": [
    "# On obtient une copie du scénario de décroissance\n",
    "w_dec_sante = w_dec.copy()\n",
    "\n",
    "# On implémente le changement de politique à partir de 2002\n",
    "w_dec_sante.new_politic('hsapct', 2002, nouvelle_table_hsapct)\n",
    "w_dec_sante.run()\n",
    "w_dec.plot_compare(w_dec_sante, ['lmhs', 'le'], rescale=True, title=\"L'espérance de vie avec une santé autonome\")"
   ]
  },
  {
   "cell_type": "markdown",
   "metadata": {
    "solution2": "hidden",
    "type": "solution"
   },
   "source": [
    "On a effectivement beaucoup plus de services de santé, mais l'espérance de vie s'effondre tout de même ... "
   ]
  },
  {
   "cell_type": "code",
   "execution_count": null,
   "metadata": {
    "solution2": "hidden",
    "type": "solution"
   },
   "outputs": [],
   "source": [
    "w_dec.plot_compare(w_dec_sante, ['le', 'lmhs', 'lmc', 'lmf'], rescale=True, title=\"Autres facteurs de l'espérance de vie avec une santé autonome\")"
   ]
  },
  {
   "cell_type": "markdown",
   "metadata": {
    "solution2": "hidden",
    "type": "solution"
   },
   "source": [
    "On voit que la nourriture pose toujours sérieusement problème ...\n",
    "\n",
    "***"
   ]
  },
  {
   "cell_type": "markdown",
   "metadata": {},
   "source": [
    "***\n",
    "\n",
    "# 6.1.2. Alternatives pour la nourriture"
   ]
  },
  {
   "cell_type": "markdown",
   "metadata": {
    "part": "6.1.2"
   },
   "source": [
    "_!!! Note: En doublon avec la partie agriculture_"
   ]
  },
  {
   "cell_type": "markdown",
   "metadata": {
    "type": "question"
   },
   "source": [
    "> ### Exercice 6.1.2.23\n",
    "\n",
    "> En remontant les équations du rendement des terres ***ly*** (**l**and **y**ield),  identifier la chaîne qui lie la production de nourriture aux intrants agricoles ***ai*** (**a**gricultural **i**nputs) (piste: passer par le capital), et comment ceux-ci sont liés à la production industrielle ***io***. [La documentation](https://abaucher.gitlabpages.inria.fr/pydynamo/w3_variables/ly.html) est bien pratique !\n",
    "\n",
    "_Précision et rappel: Un multiplier est un facteur entre 0 et 1 (ou un peu plus) qui va multiplier une autre valeur pour l'augmenter ou la réduire. Dans l'équation de ***ly***, ils représentent l'aumgentation ou la baisse des rendements, due aux différents secteurs (pollution, capital, etc.)_"
   ]
  },
  {
   "cell_type": "code",
   "execution_count": null,
   "metadata": {},
   "outputs": [],
   "source": [
    "# Votre code ..."
   ]
  },
  {
   "cell_type": "markdown",
   "metadata": {
    "solution2": "hidden",
    "type": "solution"
   },
   "source": [
    "> ### Solution 6.1.2.23"
   ]
  },
  {
   "cell_type": "markdown",
   "metadata": {
    "solution2": "hidden",
    "type": "solution"
   },
   "source": [
    "***\n",
    "\n",
    "> ### Solution 6.1.2.23 La chaîne de la nourriture"
   ]
  },
  {
   "cell_type": "code",
   "execution_count": null,
   "metadata": {
    "solution2": "hidden",
    "type": "solution"
   },
   "outputs": [],
   "source": [
    "# Affichage des équations\n",
    "for i, variable in enumerate(('tai', 'cai', 'ai', 'aiph', 'lymc', 'ly')):\n",
    "    print(i + 1, variable, ':', w.definition(variable))\n",
    "    print('', w.equation(variable)) \n",
    "\n",
    "# Affichage du graphe des influences\n",
    "w_dec.show_influence_graph(variables=['tai', 'cai', 'ai', 'aiph', 'lymc', 'ly'], depth=1).show('sante.html')"
   ]
  },
  {
   "cell_type": "markdown",
   "metadata": {
    "solution2": "hidden",
    "type": "solution"
   },
   "source": [
    "1. La production industrielle ***io*** détermine l'investissement agricole total ***tai***\n",
    "2. Qui augmentent ou réduisent les intrants agricoles actuels ***cai***\n",
    "3. Qui, avec un peu de retard, deviennent les intrants agricoles réels ***ai***\n",
    "4. À partir desquels sont calculés les intrants par hectare ***aiph***, \n",
    "5. Qui déterminent le facteur d'apport du capital pour la production agricole ***lymc*** \n",
    "6. D'où est déduite la production agricole\n",
    "\n",
    "\n",
    "| La production agricole dépend en agriculture conventionnelle des engrais, du pétrole, des pesticides ...|\n",
    "| :--: |\n",
    "| ![engrais](https://gitlab.inria.fr/abaucher/pydynamo/-/raw/TPworld3/images_TP/engrais.jpeg)\n",
    "|\n",
    "| [En savoir plus](https://www.youtube.com/watch?v=6Dyc_Ubp8E8) |\n",
    "\n",
    "***"
   ]
  },
  {
   "cell_type": "markdown",
   "metadata": {
    "type": "question"
   },
   "source": [
    "> ### Exercice 6.1.2.24\n",
    "\n",
    "> Que proposer dans cette boucle pour une agriculture moins dépendante de l'industrie ? Une variable en particulier dispose d'une fonction non-linéaire qui rend compte de la dépendance des rendements aux intrants agricoles."
   ]
  },
  {
   "cell_type": "code",
   "execution_count": null,
   "metadata": {},
   "outputs": [],
   "source": [
    "# Votre code ..."
   ]
  },
  {
   "cell_type": "markdown",
   "metadata": {
    "solution2": "hidden",
    "type": "solution"
   },
   "source": [
    "> ### Solution 6.1.2.24"
   ]
  },
  {
   "cell_type": "markdown",
   "metadata": {
    "solution2": "hidden",
    "type": "solution"
   },
   "source": [
    "***\n",
    "\n",
    "> ### Solution 6.1.2.24 La table de la dépendance aux engrais\n",
    "\n",
    "En affichant la table du facteur de rendement du capital ***lymc*** (**l**and **y**ield **m**ultiplier from **c**aptial):"
   ]
  },
  {
   "cell_type": "code",
   "execution_count": null,
   "metadata": {
    "solution2": "hidden",
    "type": "solution"
   },
   "outputs": [],
   "source": [
    "w_dec.plot_non_linearity('lymc')\n",
    "print(w_dec.lymct)"
   ]
  },
  {
   "cell_type": "markdown",
   "metadata": {
    "solution2": "hidden",
    "type": "solution"
   },
   "source": [
    "On s'aperçoit que les rendements agricoles sont très dépendants des intrants par hectare ***aiph*** (**a**gricultural **i**nputs **p**er **h**ectare).\n",
    "\n",
    "***"
   ]
  },
  {
   "cell_type": "markdown",
   "metadata": {
    "type": "question"
   },
   "source": [
    "> ### Exercice 6.1.2.25\n",
    "\n",
    "> Créer une nouvelle table pour cette fonction, qui permettrait de rendre les rendements plus indépendants des intrants."
   ]
  },
  {
   "cell_type": "code",
   "execution_count": null,
   "metadata": {},
   "outputs": [],
   "source": [
    "# Votre code ..."
   ]
  },
  {
   "cell_type": "markdown",
   "metadata": {
    "solution2": "hidden",
    "type": "solution"
   },
   "source": [
    "> ### Solution 6.1.2.25"
   ]
  },
  {
   "cell_type": "markdown",
   "metadata": {
    "solution2": "hidden",
    "type": "solution"
   },
   "source": [
    "***\n",
    "\n",
    "> ### Solution 6.1.2.25 Agro-écologie \n",
    "Je proposerais de passer à l'agroécologie et de considérer qu'il n'y a pas besoin d'intrants agricoles pour les cultures. Ainsi le facteur ***lymc*** (**l**and **y**ield **m**ultiplier from **c**apital) serait toujours fixé à 1: pas besoin de capital pour que la terre ait le même niveau de productivité qu'en l'an 2000."
   ]
  },
  {
   "cell_type": "code",
   "execution_count": null,
   "metadata": {
    "solution2": "hidden",
    "type": "solution"
   },
   "outputs": [],
   "source": [
    "lymc_2000 = w_dec['lymc', 2000]\n",
    "nouvelle_table_nourriture = [lymc_2000 for _ in range(len(w_dec.lymct))]\n",
    "ancienne_table_nourriture = w_dec.lymct\n",
    "plt.plot(ancienne_table_nourriture)\n",
    "plt.plot(nouvelle_table_nourriture)\n",
    "plt.legend(['ancienne table', 'nouvelle_table'])\n",
    "plt.title('Productivité agricole en fonction des intrants');"
   ]
  },
  {
   "cell_type": "markdown",
   "metadata": {
    "solution2": "hidden",
    "type": "solution"
   },
   "source": [
    "***"
   ]
  },
  {
   "cell_type": "markdown",
   "metadata": {
    "type": "question"
   },
   "source": [
    "> ### Exercice 6.1.2.26\n",
    "\n",
    "> Créer une instance copie du scénario de décroissance, et y ajouter une politique qui change les valeurs de la table concernée à partir de 2002. Astuce: s'aider de la partie  [À vous de jouer](#4.-À-vous-de-jouer), sur le changement de table.\n",
    "\n",
    "> Relancer la simulation, et comparer l'évolution de  l'espérance de vie ***le***, ainsi que les 3 facteurs ***lmhs***, ***lmf*** et ***lmc*** par rapport à la première décroissance. A-t-on réussi ? Quelle est la principale limite ?"
   ]
  },
  {
   "cell_type": "code",
   "execution_count": null,
   "metadata": {},
   "outputs": [],
   "source": [
    "# Votre code ..."
   ]
  },
  {
   "cell_type": "markdown",
   "metadata": {
    "solution2": "hidden",
    "type": "solution"
   },
   "source": [
    "> ### Solution 6.1.2.26"
   ]
  },
  {
   "cell_type": "markdown",
   "metadata": {
    "solution2": "hidden",
    "type": "solution"
   },
   "source": [
    "***\n",
    "\n",
    "> ### Solution 6.1.2.26 Implémenter l'agro-écologie"
   ]
  },
  {
   "cell_type": "code",
   "execution_count": null,
   "metadata": {
    "solution2": "hidden",
    "type": "solution"
   },
   "outputs": [],
   "source": [
    "# On obtient une copie du scénario de décroissance\n",
    "w_dec_agro = w_dec.copy()\n",
    "\n",
    "# On implémente la nouvelle politique\n",
    "w_dec_agro.new_politic('lymct', 2002, nouvelle_table_nourriture)\n",
    "w_dec_agro.run()\n",
    "\n",
    "# On compare l'ancienne décroissance avec la nouvelle\n",
    "w_dec.plot_compare(w_dec_agro, ['le', 'lmhs', 'lmc', 'lmf'], rescale=True, title=\"Facteurs de l'espérance avec l'agro-écologie\")"
   ]
  },
  {
   "cell_type": "markdown",
   "metadata": {
    "solution2": "hidden",
    "type": "solution"
   },
   "source": [
    "Ce sont les services de santé, et dans une moindre mesure la trop forte densité, qui restent alors les principales freins à l'espérance de vie."
   ]
  },
  {
   "cell_type": "markdown",
   "metadata": {},
   "source": [
    "***\n",
    "\n",
    "# 6.1.3. Alternatives pour la densité"
   ]
  },
  {
   "cell_type": "markdown",
   "metadata": {
    "type": "question"
   },
   "source": [
    "> ### Exercice 6.1.3.27\n",
    "\n",
    ">  Analyser comment la variable ***lmc*** (**l**ifetime **m**ultiplier from **c**rowding) est calculée. Quel est son lien avec le produit industriel par personne ***iopc*** ?"
   ]
  },
  {
   "cell_type": "code",
   "execution_count": null,
   "metadata": {},
   "outputs": [],
   "source": [
    "# Votre code ..."
   ]
  },
  {
   "cell_type": "markdown",
   "metadata": {
    "solution2": "hidden",
    "type": "solution"
   },
   "source": [
    "> ### Solution 6.1.3.27"
   ]
  },
  {
   "cell_type": "markdown",
   "metadata": {
    "solution2": "hidden",
    "type": "solution"
   },
   "source": [
    "***\n",
    "\n",
    "> ### Solution 6.1.3.27 L'espérance de vie et la densité de la population"
   ]
  },
  {
   "cell_type": "code",
   "execution_count": null,
   "metadata": {
    "solution2": "hidden",
    "type": "solution"
   },
   "outputs": [],
   "source": [
    "print(w.equation('lmc'))\n",
    "print(w.get_in_nodes('lmc', with_definitions=True))\n",
    "print(w.equation('cmi'))\n",
    "w.plot_non_linearity('cmi')"
   ]
  },
  {
   "cell_type": "markdown",
   "metadata": {
    "solution2": "hidden",
    "type": "solution"
   },
   "source": [
    "La fraction de la population vivant en ville ***fpu*** (**f**raction of **p**opulation **u**rban) et un certain multiplier ***cmi*** (**c**rowding **m**ultiplier from **i**ndustry) causent des dommages à l'espérance de vie. Ce ***cmi*** rend compte de la relation entre produit industriel par personne ***iopc*** (**i**ndustrial **o**utput per **c**apita) et dommages pour l'espérance de vie: Lorsque la population est très pauvre, vivre en ville a un impact très néfaste (on pense ici aux bidonvilles). Avec la dépollution, gestion des eaux, entretien des routes, etc., cet impact réduit, puis ré-augmente finalement lorsque les produits industriels devienent plus élevés (on pense à la concentration de voitures, de zones industrielles polluantes, etc).\n",
    "\n",
    "***"
   ]
  },
  {
   "cell_type": "markdown",
   "metadata": {
    "type": "question"
   },
   "source": [
    "> ### Exercice 6.1.3.28\n",
    "\n",
    "> De quelle manière pourrait on changer cette table, si on mettait largement en place des écoquartiers, avec une quantité de nature en ville suffisante pour assurer un cadre de vie urbain sain sans dépendre de l'industrie ? "
   ]
  },
  {
   "cell_type": "code",
   "execution_count": null,
   "metadata": {},
   "outputs": [],
   "source": [
    "# Votre code ..."
   ]
  },
  {
   "cell_type": "markdown",
   "metadata": {
    "solution2": "hidden",
    "type": "solution"
   },
   "source": [
    "> ### Solution 6.1.3.28"
   ]
  },
  {
   "cell_type": "markdown",
   "metadata": {
    "solution2": "hidden",
    "type": "solution"
   },
   "source": [
    "***\n",
    "\n",
    "> ### Solution 6.1.3.28 Nature regénératrice en ville\n",
    "\n",
    "On change la table ***cmit***: cette fois, peu importe le niveau industriel, la présence de nature en ville permet d'enlever les impacts néfaste la vie urbaine, la table vaut donc 0 en tout point."
   ]
  },
  {
   "cell_type": "code",
   "execution_count": null,
   "metadata": {
    "solution2": "hidden",
    "type": "solution"
   },
   "outputs": [],
   "source": [
    "ancienne_table_cmit = w.cmit\n",
    "nouvelle_table_cmit = [0 for i in w.cmit]\n",
    "plt.plot(ancienne_table_cmit)\n",
    "plt.plot(nouvelle_table_cmit)\n",
    "plt.legend(['Ancienne table', 'Nouvelle table'])\n",
    "plt.title(\"Nouvelle table pour cmi avec la nature urbaine\");"
   ]
  },
  {
   "cell_type": "markdown",
   "metadata": {
    "solution2": "hidden",
    "type": "solution"
   },
   "source": [
    "| Exemple: la phytodépuration, purification des eaux usées avec un filtre planté |\n",
    "| :--: |\n",
    "| ![Phytodépuration, source https://jardinage.lemonde.fr/dossier-1101-phytoepuration.html](https://gitlab.inria.fr/abaucher/pydynamo/-/raw/TPworld3/images_TP/phytodepuration.jpg) |\n",
    "| Voir [plus de détails](https://www.ecologs.org/eau/les-traitements-naturels-la-phytoepuration-de-l-eau.html) |\n",
    "***"
   ]
  },
  {
   "cell_type": "markdown",
   "metadata": {
    "type": "question"
   },
   "source": [
    "> ### Exercice 6.1.3.29\n",
    "\n",
    "> Implémenter ce changement de table dans une nouvelle politique dans une copie du scénario de décroissance, à partir de 2000. Astuce: s'aider de la partie [À vous de jouer](#4.-À-vous-de-jouer), sur le changement de table.\n",
    "\n",
    "> Relancer la simulation, et comparer l'évolution de  l'espérance de vie ***le***, ainsi que les 3 facteurs ***lmhs***, ***lmf*** et ***lmc*** par rapport à la première décroissance. A-t-on réussi ? Quelle est la principale limite ?\n"
   ]
  },
  {
   "cell_type": "code",
   "execution_count": null,
   "metadata": {},
   "outputs": [],
   "source": [
    "# Votre code ..."
   ]
  },
  {
   "cell_type": "markdown",
   "metadata": {
    "solution2": "hidden",
    "type": "solution"
   },
   "source": [
    "> ### Solution 6.1.3.29"
   ]
  },
  {
   "cell_type": "markdown",
   "metadata": {
    "solution2": "hidden",
    "type": "solution"
   },
   "source": [
    "***\n",
    "\n",
    "> ### Solution 6.1.3.29 Simulation de la nature en ville"
   ]
  },
  {
   "cell_type": "code",
   "execution_count": null,
   "metadata": {
    "solution2": "hidden",
    "type": "solution"
   },
   "outputs": [],
   "source": [
    "# Une nouvelle politique à partir de l'an 2000\n",
    "w_dec_naturb = w_dec.copy()\n",
    "w_dec_naturb.new_politic('cmit', 2000, nouvelle_table_cmit)\n",
    "w_dec_naturb.run()\n",
    "w_dec.plot_compare(w_dec_naturb, ['le', 'lmhs', 'lmc', 'lmf'], rescale=True, title=\"L'espérance de vie avec une nature urbaine\")"
   ]
  },
  {
   "cell_type": "markdown",
   "metadata": {
    "solution2": "hidden",
    "type": "solution"
   },
   "source": [
    "On n'a en effet aucun impact néfaste provenant de la densité urbaine, mais cela n'empêche pas l'espérance de vie de s'effondrer à cause des deux autres facteurs qui n'ont pas changé.\n",
    "\n",
    "***"
   ]
  },
  {
   "cell_type": "markdown",
   "metadata": {},
   "source": [
    "***\n",
    "\n",
    "# 6.2. Une première réunion des alternatives"
   ]
  },
  {
   "cell_type": "markdown",
   "metadata": {
    "type": "question"
   },
   "source": [
    "> ### Exercice 6.2.30\n",
    "\n",
    "> Réunissez au sein d'un même scénario les trois propositions précédentes. Que se passe-t-il ? Que faudrait-il améliorer selon vous ?"
   ]
  },
  {
   "cell_type": "code",
   "execution_count": null,
   "metadata": {},
   "outputs": [],
   "source": [
    "# Votre code ..."
   ]
  },
  {
   "cell_type": "markdown",
   "metadata": {
    "solution2": "hidden",
    "type": "solution"
   },
   "source": [
    "> ### Solution 6.2.30"
   ]
  },
  {
   "cell_type": "markdown",
   "metadata": {
    "solution2": "hidden",
    "type": "solution"
   },
   "source": [
    "***\n",
    "\n",
    "> ### Solution 6.2.30 Réunir les alternatives"
   ]
  },
  {
   "cell_type": "code",
   "execution_count": null,
   "metadata": {
    "solution2": "hidden",
    "type": "solution"
   },
   "outputs": [],
   "source": [
    "w_dec_reu_1 = w_dec.copy()\n",
    "w_dec_reu_1.new_politic('hsapct', 2002, [100, 130, 150, 165, 180, 210, 220, 235, 230])\n",
    "w_dec_reu_1.new_politic('lymct', 2002, [w_dec.get_at('lymc', 2000) for _ in range(len(w_dec.lymct))])\n",
    "w_dec_reu_1.new_politic('cmit', 2000, w_dec.cmit*0 )\n",
    "w_dec_reu_1.run()\n",
    "w_dec_reu_1.plot_world(title=\"Première réunion des alternatives pour la décroissance\")"
   ]
  },
  {
   "cell_type": "markdown",
   "metadata": {
    "solution2": "hidden",
    "type": "solution"
   },
   "source": [
    "La nourriture continue cependant de baisser ... c'est en fait dû à l'érosion des sols et à l'augmentation des terres occupées par l'agriculture.\n",
    "\n",
    "***"
   ]
  },
  {
   "cell_type": "markdown",
   "metadata": {},
   "source": [
    "***\n",
    "\n",
    "# 6.2.1. Stagnation de la population"
   ]
  },
  {
   "cell_type": "markdown",
   "metadata": {},
   "source": [
    "Si c'est un problème de place disponible, on peut se dire qu'une stabilisation de la population pourrait être une bonne idée. Le modèle World3 intègre déjà les mécanismes correspondant à cette politique, à travers l'usage de 2 constantes en particulier. À partir de la date ***zpgt*** (**z**ero **p**opulation **g**rowth **t**ime), le nombre d'enfants désiré par famille est fixé à 2. À partir de la date ***fcest*** (**f**ertility **c**ontrol **e**ffectiveness **t**ime), les familles ont le plein moyen de contrôler leur fertilité. Ces constantes sont par défaut fixées à 4000, c'est à dire en dehors de la simulation."
   ]
  },
  {
   "cell_type": "markdown",
   "metadata": {
    "type": "question"
   },
   "source": [
    "> ### Exercice 6.2.1.31\n",
    "\n",
    "> Obtenir une nouvelle instance du modèle en copiant le scénario `w_decreu1` avec la fonction `copy`. Fixer les dates ***zpgt*** et ***fcest*** à 2000, lancer la simulation.\n",
    "\n",
    "> Comparer l'évolution de  l'espérance de vie ***le***, ainsi que les 3 facteurs ***lmhs***, ***lmf*** et ***lmc***, avec le premier scénario de réunion des alternatives. Est-ce suffisant ? Que se pase-t-il ?"
   ]
  },
  {
   "cell_type": "code",
   "execution_count": null,
   "metadata": {},
   "outputs": [],
   "source": [
    "# Votre code ..."
   ]
  },
  {
   "cell_type": "markdown",
   "metadata": {
    "solution2": "hidden",
    "type": "solution"
   },
   "source": [
    "> ### Solution 6.2.1.31"
   ]
  },
  {
   "cell_type": "markdown",
   "metadata": {
    "solution2": "hidden",
    "type": "solution"
   },
   "source": [
    "***\n",
    "\n",
    "> ### Solution 6.2.1.31 Implémenter la stagnation"
   ]
  },
  {
   "cell_type": "code",
   "execution_count": null,
   "metadata": {
    "solution2": "hidden",
    "type": "solution"
   },
   "outputs": [],
   "source": [
    "# On obtient une copie du scénario de réunion des alternatives\n",
    "w_dec_stagn = w_dec_reu_1.copy()"
   ]
  },
  {
   "cell_type": "code",
   "execution_count": null,
   "metadata": {
    "solution2": "hidden",
    "type": "solution"
   },
   "outputs": [],
   "source": [
    "w_dec_stagn.zpgt = 2000\n",
    "w_dec_stagn.fcest = 2000\n",
    "w_dec_stagn.run()\n",
    "w_dec_reu_1.plot_compare(w_dec_stagn, ['lmhs', 'lmc', 'lmf', 'fpc'], rescale=True, title=\"Décroissance, atlernatives 1 et stagnation\")"
   ]
  },
  {
   "cell_type": "markdown",
   "metadata": {
    "solution2": "hidden",
    "type": "solution"
   },
   "source": [
    "Ça n'a pas changé beaucoup de choses, si ce n'est qu'il ya légèrement plus de nourriture par personne.\n",
    "\n",
    "***"
   ]
  },
  {
   "cell_type": "markdown",
   "metadata": {},
   "source": [
    "***\n",
    "\n",
    "# 6.2.2. Réduction de l'érosion des sols"
   ]
  },
  {
   "cell_type": "markdown",
   "metadata": {
    "type": "question"
   },
   "source": [
    "> ### Exercice 6.2.2.32\n",
    "\n",
    "> En comprenant le lien entre la nourriture [***f***](https://abaucher.gitlabpages.inria.fr/pydynamo/variables/f.html)  (**f**ood) et [al](https://abaucher.gitlabpages.inria.fr/pydynamo/variables/al.html) (**a**rable **l**and), et en affichant les courbes des  variables qui servent au calcul de ***al***, tentez de compendre pourquoi la production de nourriture diminue. "
   ]
  },
  {
   "cell_type": "code",
   "execution_count": null,
   "metadata": {},
   "outputs": [],
   "source": [
    "# Votre code ..."
   ]
  },
  {
   "cell_type": "markdown",
   "metadata": {
    "solution2": "hidden",
    "type": "solution"
   },
   "source": [
    "> ### Solution 6.2.2.32"
   ]
  },
  {
   "cell_type": "markdown",
   "metadata": {
    "solution2": "hidden",
    "type": "solution"
   },
   "source": [
    "***\n",
    "\n",
    "> ### Solution 6.2.2.32 Pourquoi y-a-t-il moins de terres cultivées ?"
   ]
  },
  {
   "cell_type": "code",
   "execution_count": null,
   "metadata": {
    "solution2": "hidden",
    "type": "solution"
   },
   "outputs": [],
   "source": [
    "print(w_dec_reu_1.equation('al'))\n",
    "w_dec_reu_1.plot(['al', 'ldr', 'ler', 'lrui'], rescale=True, title=\"Usage des sols dans les alternatives 1\")"
   ]
  },
  {
   "cell_type": "markdown",
   "metadata": {
    "solution2": "hidden",
    "type": "solution"
   },
   "source": [
    "Malgré la chute de la mise en culture ***ldr*** et de l'urbanisation ***lrui***, l'érosion ***ler*** est toujours élevée.\n",
    "\n",
    "\n",
    "| L'érosion réduit la capacité de la terre à se regénérer|\n",
    "| :--: |\n",
    "| ![érosion](https://gitlab.inria.fr/abaucher/pydynamo/-/raw/TPworld3/images_TP/erosion_agricole.jpeg)\n",
    "\n",
    "***"
   ]
  },
  {
   "cell_type": "markdown",
   "metadata": {
    "type": "question"
   },
   "source": [
    "> ### Exercice 6.2.2.33\n",
    "\n",
    "> Mais en agro-écologie, il n'est pas censé y avoir une érosion des sols ! Comment réduire l'érosion provoquée par l'usage des sols ? Tenter de déterminer comment la durée de vie moyenne des sols [***all***](https://abaucher.gitlabpages.inria.fr/pydynamo/variables/all.html) (**a**verage **l**ife of **l**and) est liée aux rendements ***ly***.\n",
    "\n",
    "> Une variable en particulier dispose d'une fonction non linéaire qui résduit la durée de vie en fonction des rendements. Proposer une modification de cette table pour enlever l'impact de l'utilisation des sols sur la durée de vie."
   ]
  },
  {
   "cell_type": "code",
   "execution_count": null,
   "metadata": {},
   "outputs": [],
   "source": [
    "# Votre code ..."
   ]
  },
  {
   "cell_type": "markdown",
   "metadata": {
    "solution2": "hidden",
    "type": "solution"
   },
   "source": [
    "> ### Solution 6.2.2.33"
   ]
  },
  {
   "cell_type": "markdown",
   "metadata": {
    "solution2": "hidden",
    "type": "solution"
   },
   "source": [
    "***\n",
    "\n",
    "> ### Solution 6.2.2.33 Enlever l'érosion des sols par l'agriculture"
   ]
  },
  {
   "cell_type": "code",
   "execution_count": null,
   "metadata": {
    "solution2": "hidden",
    "type": "solution"
   },
   "outputs": [],
   "source": [
    "print('1:', w.equation('all'))\n",
    "print(w.get_in_nodes('all', with_definitions=True))\n",
    "print('2:', w.equation('llmy2'))\n",
    "print(w.get_in_nodes('llmy2', with_definitions=True))\n",
    "w.plot_non_linearity('llmy2')"
   ]
  },
  {
   "cell_type": "markdown",
   "metadata": {
    "solution2": "hidden",
    "type": "solution"
   },
   "source": [
    "1. La durée de vie des sols est proportionnel au facteur de durée de vie par les rendements ***llmy***\n",
    "2. Ce facteur est calculé comme une fonction qui décroît avec les rendements ***ly***.\n",
    "\n",
    "Il faudrait donc changer la table qui détermine la décroissance de la durée de vie avec le rendement. En lui mettant toujours la valeur 1, le rendement n'a plus d'impact sur la durée de vie des sols."
   ]
  },
  {
   "cell_type": "code",
   "execution_count": null,
   "metadata": {
    "solution2": "hidden",
    "type": "solution"
   },
   "outputs": [],
   "source": [
    "nouvelle_table_dureedevie = [1 for _ in range(len(w_dec.llmy2t))]\n",
    "ancienne_table_dureedevie = w_dec.llmy2t\n",
    "plt.plot(nouvelle_table_dureedevie)\n",
    "plt.plot(ancienne_table_dureedevie)\n",
    "plt.legend(['ancienne table', 'nouvelle_table'])\n",
    "plt.title('Facteur de durée de vie des sols en fonction des rendements');"
   ]
  },
  {
   "cell_type": "markdown",
   "metadata": {
    "solution2": "hidden",
    "type": "solution"
   },
   "source": [
    "***"
   ]
  },
  {
   "cell_type": "markdown",
   "metadata": {
    "type": "question"
   },
   "source": [
    "> ### Exercice 6.2.2.34\n",
    "\n",
    ">Effectuer un changement de politique à partir de 2000 avec la nouvelle table de cette fonction, sur une nouvelle copie du premier scénario de réunion des alternatives. Que se passe-t-il cette fois pour la durée de vie des sols ?"
   ]
  },
  {
   "cell_type": "code",
   "execution_count": null,
   "metadata": {},
   "outputs": [],
   "source": [
    "# Votre code ..."
   ]
  },
  {
   "cell_type": "markdown",
   "metadata": {
    "solution2": "hidden",
    "type": "solution"
   },
   "source": [
    "> ### Solution 6.2.2.34"
   ]
  },
  {
   "cell_type": "markdown",
   "metadata": {
    "solution2": "hidden",
    "type": "solution"
   },
   "source": [
    "***\n",
    "\n",
    "> ### Solution 6.2.2.34 Implémenter l'agro-écologie sans érosion"
   ]
  },
  {
   "cell_type": "code",
   "execution_count": null,
   "metadata": {
    "solution2": "hidden",
    "type": "solution"
   },
   "outputs": [],
   "source": [
    "w_dec_erosion = w_dec_reu_1.copy()\n",
    "w_dec_erosion.llmytm = 2002\n",
    "w_dec_erosion.new_politic('llmy2t', 2002, nouvelle_table_dureedevie)\n",
    "w_dec_erosion.run()\n",
    "w_dec_erosion.plot(['llmy2', 'ler', 'all'], rescale=True, title=\"Erosion et fertilité pour le scénario sans érosion\")"
   ]
  },
  {
   "cell_type": "markdown",
   "metadata": {
    "solution2": "hidden",
    "type": "solution"
   },
   "source": [
    "La durée de vie des sols semble bien avoir remonté en flèche à partir de 2000 !\n",
    "\n",
    "***"
   ]
  },
  {
   "cell_type": "markdown",
   "metadata": {},
   "source": [
    "***\n",
    "\n",
    "# 6.3. Convergence finale des alternatives !"
   ]
  },
  {
   "cell_type": "markdown",
   "metadata": {
    "type": "question"
   },
   "source": [
    "> ### Exercice 6.3.35\n",
    "\n",
    "> Réunissez toutes les propositions de changement, et j'espère que vous tombez sur un scénario viable ! "
   ]
  },
  {
   "cell_type": "code",
   "execution_count": null,
   "metadata": {},
   "outputs": [],
   "source": [
    "# Votre code ..."
   ]
  },
  {
   "cell_type": "markdown",
   "metadata": {
    "solution2": "hidden",
    "type": "solution"
   },
   "source": [
    "> ### Solution 6.3.35"
   ]
  },
  {
   "cell_type": "markdown",
   "metadata": {
    "solution2": "hidden",
    "type": "solution"
   },
   "source": [
    "***\n",
    "\n",
    "> ### Solution 6.3.35 Faire converger les alternatives"
   ]
  },
  {
   "cell_type": "code",
   "execution_count": null,
   "metadata": {
    "solution2": "hidden",
    "type": "solution"
   },
   "outputs": [],
   "source": [
    "# Copie du scénario \"décroissance\"\n",
    "w_viable = w_dec.copy()\n",
    "\n",
    "# Santé autonome\n",
    "w_viable.new_politic('hsapct', 2002, [100, 130, 150, 165, 180, 210, 220, 235, 230])\n",
    "# Agriculture sans intrants\n",
    "w_viable.new_politic('lymct', 2002, [w_dec.get_at('lymc', 2000) for _ in range(len(w_dec.lymct))])\n",
    "# Nature urbaine\n",
    "w_viable.new_politic('cmit', 2002, w_dec.cmit*0)\n",
    "# Agro-écologie\n",
    "w_viable.llmytm = 2002\n",
    "w_viable.new_politic('llmy2t', 2002, [1 for _ in range(len(w_dec.llmy2t))])\n",
    "# Stabilisation des naissances\n",
    "w_viable.zpgt = 2002\n",
    "w_viable.fcest = 2002\n",
    "\n",
    "# Simulation et affichage !\n",
    "w_viable.run()\n",
    "w_viable.plot_world(title=\"Deuxième réunion des alternatives\")"
   ]
  },
  {
   "cell_type": "markdown",
   "metadata": {
    "solution2": "hidden",
    "type": "solution"
   },
   "source": [
    "Ça a l'air de plutôt bien fonctionner ! À noter que comme le \"wellfare index\" ne devrait plus se calculer en fonction PIB, il serait différent.\n",
    "\n",
    "***"
   ]
  },
  {
   "cell_type": "markdown",
   "metadata": {},
   "source": [
    "***\n",
    "\n",
    "# 7. Annexes"
   ]
  },
  {
   "cell_type": "markdown",
   "metadata": {},
   "source": [
    "***\n",
    "\n",
    "# 7.1. Commandes Jupyter Notebook"
   ]
  },
  {
   "cell_type": "markdown",
   "metadata": {},
   "source": [
    "Dans un Jupyter Notebook, chaque morceau de code est contenu dans une cellule. Après son exécution, les variables utilisées sont gardées en mémoire dans le *kernel*. On peut interrompre et reset celui-ci dans la barre d'outils du haut. Voici quelques raccourcis clavier utiles:\n",
    "- **MAJ + Entrée** / **CTRL + Entrée**: Exécuter une cellule et passer à la suivante / ne pas passer à la suivante \n",
    "- **a** / **b**: Ajouter une cellule vide au dessus / en dessous\n",
    "- **x** / **d, d** / **c** / **v** / : couper / supprimer / copier / coller  une cellule"
   ]
  },
  {
   "cell_type": "markdown",
   "metadata": {},
   "source": [
    "***\n",
    "\n",
    "# 7.2. Commandes Pydynamo\n",
    "Ne pas hésiter à utiliser la fonction help ! Par exemple:"
   ]
  },
  {
   "cell_type": "code",
   "execution_count": null,
   "metadata": {
    "part": "7.2"
   },
   "outputs": [],
   "source": [
    "help(World3.run)"
   ]
  },
  {
   "cell_type": "markdown",
   "metadata": {
    "part": "7.2"
   },
   "source": [
    "## Système et modifications"
   ]
  },
  {
   "cell_type": "code",
   "execution_count": null,
   "metadata": {
    "part": "7.2"
   },
   "outputs": [],
   "source": [
    "# Obtenir une instance du modèle World3 par défaut (c'est à dire le scénario 2, le plus réaliste)\n",
    "w = World3()\n",
    "# Obtenir une instance du modèle World3, avec les paramètres d'un certain scénario\n",
    "ws5 = World3(scenario_number=5)"
   ]
  },
  {
   "cell_type": "code",
   "execution_count": null,
   "metadata": {
    "part": "7.2"
   },
   "outputs": [],
   "source": [
    "# Changer un paramètre du modèle, par exemple nri\n",
    "w.nri = w.nri/2"
   ]
  },
  {
   "cell_type": "code",
   "execution_count": null,
   "metadata": {
    "part": "7.2"
   },
   "outputs": [],
   "source": [
    "# Introduire un changement de constante à partir d'une date, par exemple fixer fipm à 0.5 à partir de 2002\n",
    "# Attention, penser à réinitialiser l'instance du modèle avant d'introduire une nouvelle politique\n",
    "w.new_politic('fipm', 2002, 0.01)"
   ]
  },
  {
   "cell_type": "code",
   "execution_count": null,
   "metadata": {
    "part": "7.2"
   },
   "outputs": [],
   "source": [
    "# Introduire un changement de table à partir d'une date, par exemple fixer la table lytcrmt à [0, 0.4] à partir de 1980\n",
    "# Attention, penser à réinitialiser l'instance du modèle avant d'introduire une nouvelle politique\n",
    "w.new_politic('lytcrmt', 2050, [0, 0.4])"
   ]
  },
  {
   "cell_type": "code",
   "execution_count": null,
   "metadata": {
    "part": "7.2"
   },
   "outputs": [],
   "source": [
    "# Introduire un changement de'équation à partir d'une date, par exemple fixer la variable pop à pop.j - 10 à partir de 2050\n",
    "# Attention, penser à réinitialiser l'instance du modèle avant d'introduire une nouvelle politique\n",
    "w.new_politic('pop', 2050, 'pop.j - 10')"
   ]
  },
  {
   "cell_type": "code",
   "execution_count": null,
   "metadata": {
    "part": "7.2"
   },
   "outputs": [],
   "source": [
    "# Lancer la simulation du système\n",
    "w.run()\n",
    "ws5.run()"
   ]
  },
  {
   "cell_type": "markdown",
   "metadata": {
    "part": "7.2"
   },
   "source": [
    "## Informations sur des variables\n",
    "\n",
    "Voir aussi la [documentation](https://abaucher.gitlabpages.inria.fr/pydynamo/w3_sectors.html). Les variables, leurs définitions, équations, noeuds entrants et sortant, et fonction non linéaires, y sont expliquées."
   ]
  },
  {
   "cell_type": "code",
   "execution_count": null,
   "metadata": {
    "part": "7.2"
   },
   "outputs": [],
   "source": [
    "# Obtenir la définition d'une variable, par exemple io\n",
    "w.definition('io')"
   ]
  },
  {
   "cell_type": "code",
   "execution_count": null,
   "metadata": {
    "part": "7.2"
   },
   "outputs": [],
   "source": [
    "# Obtenir l'équation d'une variable, par exemple io\n",
    "w.equation('io')"
   ]
  },
  {
   "cell_type": "code",
   "execution_count": null,
   "metadata": {
    "part": "7.2"
   },
   "outputs": [],
   "source": [
    "# Obteir les noeuds qui influencent une variable, par exemple io\n",
    "w.get_in_nodes('io')"
   ]
  },
  {
   "cell_type": "code",
   "execution_count": null,
   "metadata": {
    "part": "7.2"
   },
   "outputs": [],
   "source": [
    "# Obtenir les variables influencées par une variable, par exemple ppgr\n",
    "w.get_out_nodes('ppgr')"
   ]
  },
  {
   "cell_type": "code",
   "execution_count": null,
   "metadata": {
    "part": "7.2"
   },
   "outputs": [],
   "source": [
    "# Afficher la fonction non linéaire servant au calcul d'une variable, par exemple fcaor2\n",
    "w.plot_non_linearity('fcaor2')"
   ]
  },
  {
   "cell_type": "markdown",
   "metadata": {
    "part": "7.2"
   },
   "source": [
    "## Affichage des simulations\n",
    "\n",
    "Attention à bien lancer les simulations avant d'afficher ! "
   ]
  },
  {
   "cell_type": "code",
   "execution_count": null,
   "metadata": {
    "part": "7.2"
   },
   "outputs": [],
   "source": [
    "# Afficher des variables en particulier, par exemple io et ppolx et normaliser l'affichage\n",
    "w.plot(['io', 'ppolx'], rescale=True)"
   ]
  },
  {
   "cell_type": "code",
   "execution_count": null,
   "metadata": {
    "part": "7.2"
   },
   "outputs": [],
   "source": [
    "# Comparer 2 systèmes, par exemple w et ws5 avec les variables nr et pop\n",
    "w.plot_compare(ws5, ['nr', 'pop'], rescale=True)"
   ]
  },
  {
   "cell_type": "code",
   "execution_count": null,
   "metadata": {
    "part": "7.2"
   },
   "outputs": [],
   "source": [
    "# Affficher les principales variables de Worl3\n",
    "w.plot_world()"
   ]
  },
  {
   "cell_type": "markdown",
   "metadata": {},
   "source": [
    "***\n",
    "\n",
    "# 7.3. Lire la documentation"
   ]
  },
  {
   "cell_type": "markdown",
   "metadata": {
    "part": "7.3"
   },
   "source": [
    "Dans la documentation disponible à [cette adresse](https://abaucher.gitlabpages.inria.fr/pydynamo/w3_sectors.html), les variables de tous les secteurs sont définies et expliquées. Sur la page d'une variable ou constante en particulier, par exemple [aiph](https://abaucher.gitlabpages.inria.fr/pydynamo/w3_variables/aiph.html), on peut lire:\n",
    "- son secteur en couleur\n",
    "- sa définition et son unité\n",
    "- son équation \n",
    "- le graphe des interactions de la variable, [expliqué ici](https://abaucher.gitlabpages.inria.fr/pydynamo/readgraph.html)\n",
    "- les autres valeurs qui sont utilisées pour calculer la variable (**in nodes**)\n",
    "- les autres valeurs qui utilisent la variable pour se calculer (**out nodes**)"
   ]
  },
  {
   "cell_type": "markdown",
   "metadata": {},
   "source": [
    "***\n",
    "\n",
    "# 7.4. Comment World3 a été conçu et implémenté"
   ]
  },
  {
   "cell_type": "markdown",
   "metadata": {
    "part": "7.4"
   },
   "source": [
    "Le modèle a été conçu de la manière suivante:\n",
    "1. Les auteur.e.s identifient et décrivent un certain phénomène\n",
    "2. Iels énumèrent les grandeurs concernées \n",
    "3. Iels observent les dynamiques à l'aide d'études empiriques \n",
    "4. Iels écrivent les équations, à l'aide de fonctions non linéaires si besoin \n",
    "5. Les équations sont converties en langage informatique\n",
    "6. Lors de la simulation, chaque variable est mise à jour en fonction des valeurs des autres variables\n",
    "\n",
    "### Par exemple, pour la relation entre pollution et santé\n",
    "1. La pollution a un impact néfaste sur la santé des gens, via tout un tas de phénomènes biologico-chimiques\n",
    "2. On va suivre la *pollution* globale ***ppolx*** (**p**ersistent **pol**lution inde**x**) et *l'espérance de vie* globale ***le***  (**l**ife **e**xpectancy) pour simplifier\n",
    "3. On déduit d'études empiriques que l'espérance de vie évolue de telle manière avec la pollution\n",
    "4. On va donc écrire que l'espérance de vie ***le*** est un produit de plusieurs variables, dont ***lmp*** (**l**ife **m**ultplier from **p**ollution), un facteur entre 0 et 1 qui caractérise l'impact de la pollution sur la santé:\n",
    "\n",
    "le = lmp·(autres_variables_etudiées_autre_part)\n",
    "\n",
    "***lmp*** est lui même calculé à l'aide d'une fonction non-linéaire, qui prend en compte l'indice de pollution globale ***ppolx***, et censé correspondre aux études empiriques:\n",
    "\n",
    "lmp = NLF_lmp(ppolx)\n",
    "\n",
    "Avec NLF_lmp la fonction non linéaire.\n",
    "\n",
    "5. A. On construit la fonction non-linéaire qui lie ***lmp*** et ***ppolx*** à l'aide d'une table de valeurs, qui lie une entrée à sa valeur correspondante dans la table ***lmpt*** (**lmp** **t**able), voir plus d'infos sur la fonction permettant de créer une non linéarité [ici](https://abaucher.gitlabpages.inria.fr/pydynamo/tabhl.html).\n",
    "5. B. En ajoutant un `.k` pour les signifier les variables à l'instant présent et un `.j` pour l'instant précédent, on obtient la version numérique des équations:"
   ]
  },
  {
   "cell_type": "code",
   "execution_count": null,
   "metadata": {
    "part": "7.4"
   },
   "outputs": [],
   "source": [
    "print(w.equation('le'))\n",
    "print(w.equation('lmp'))\n",
    "print(w.equation('lmpt'))\n",
    "w.plot_non_linearity('lmp')"
   ]
  },
  {
   "cell_type": "markdown",
   "metadata": {
    "part": "7.4"
   },
   "source": [
    "_On voit ici que sans pollution, le facteur est de 1, mais qu'elle peut provoquer une baisse de 80% de l'espérance de vie si l'index de pollution est à son maximum._\n",
    "\n",
    "6. Après avoir effectué ces étapes pour toutes les variables et secteurs ([ce bouquin de 600 pages](https://archive.org/details/dynamicsofgrowth0000unse/) les expliquent) la simulation est prête a être lancée !"
   ]
  },
  {
   "cell_type": "markdown",
   "metadata": {
    "part": "7.4"
   },
   "source": [
    "### Les changements de politique\n",
    "Pour signifier qu'une équation ou qu'une constante va changer à partir d'une certaine date de décision, on écrit la valeur des deux variables, avant et après la décision, et lors de la simulation une d'entre elles est sélectionnée selon la date.\n",
    "\n",
    "Par exemple, pour décider qu'à partir de 1975 la durée de vie des intrants agricoles ***alai*** (**a**verage **l**ife of **a**gricultural **i**nputs) va passer de 2 à 3 ans, on fixe ***alai1*** à  2, ***alai2*** à 3, la date ***pyear*** à 1975, et on écrit que ***alai*** va être égale à ***alai1*** si ***pyear*** (**p**olitic year) est plus petit que la date actuelle, et à ***alai2*** sinon, avec la fonction [clip](https://abaucher.gitlabpages.inria.fr/pydynamo/clip.html)."
   ]
  },
  {
   "cell_type": "code",
   "execution_count": null,
   "metadata": {
    "part": "7.4"
   },
   "outputs": [],
   "source": [
    "w.alai1 = 2\n",
    "w.alai2 = 3\n",
    "print(w.equation('pyear'))\n",
    "print(w.equation('alai')) # alai = alai2 si time >= pyear, et alai1 sinon"
   ]
  },
  {
   "cell_type": "markdown",
   "metadata": {
    "part": "7.4"
   },
   "source": [
    "### Les effets retardés\n",
    "Certains impacts mettent un certain temps avant d'influencer les autres.\n",
    "\n",
    "Par exemple, vu qu'il y a pas mal de stocks de nourriture, la population met un certain temps à réaliser qu'il y a un manque de production. Le ratio de nourriture perçu ***pfr*** (**p**ercieved **f**ood **r**atio) est donc calculé en fonction du ratio de production réel ***fr***, mais avec une atténuation `smooth` comportant un certain délai de perception, ***fspd*** (**f**ood **s**hortage **p**erception **d**elay), fixé ici à 2 ans:"
   ]
  },
  {
   "cell_type": "code",
   "execution_count": null,
   "metadata": {
    "part": "7.4"
   },
   "outputs": [],
   "source": [
    "print(w.equation('fspd'))\n",
    "print(w.equation('pfr'))"
   ]
  },
  {
   "cell_type": "markdown",
   "metadata": {},
   "source": [
    "## Notes supplémentaires:\n",
    "\n",
    "- Toutes les variables sont globales, elles représentent la moyenne mondiale, on ne prend pas en compte les disparités"
   ]
  },
  {
   "cell_type": "markdown",
   "metadata": {
    "part": "7.5"
   },
   "source": [
    "***\n",
    "\n",
    "# 7.5. Changer des équations\n",
    "\n",
    "* _Note: à compléter_"
   ]
  },
  {
   "cell_type": "markdown",
   "metadata": {
    "part": "8"
   },
   "source": [
    "***\n",
    "\n",
    "# 8. Bonus"
   ]
  },
  {
   "cell_type": "markdown",
   "metadata": {
    "part": "8.1"
   },
   "source": [
    "***\n",
    "\n",
    "# 8.1. Le scenario pas de gachîs"
   ]
  },
  {
   "cell_type": "markdown",
   "metadata": {
    "part": "8.1"
   },
   "source": [
    "Si on compare la population dans les deux scénarios, on voit qu'elle est plus élevée dans le scénario \"pas de gachîs\", parce que l'augmentation de la nourriture a un effet positif sur la population. Cependant, cela signifie également que les terres cultivées ***al***, ainsi que la pollution agricole ***ppgao*** (**p**ersistent **p**ollution **g**enerated by **a**griculture **o**utput) et l'érosion ***ler*** (**l**and **e**rosion **r**ate) sont plus élevées et plus rapides. C'est pourquoi la chute de nourriture est plus violente."
   ]
  },
  {
   "cell_type": "code",
   "execution_count": null,
   "metadata": {
    "part": "8.1"
   },
   "outputs": [],
   "source": [
    "w1 = World3(1)\n",
    "w1.run()\n",
    "w1.plot_compare(w_pas_de_gachis, ['pop', 'al', 'ppgao', 'ler'], rescale=True, title=\"Chute agricole précoce du scénario pas de gachîs\")"
   ]
  }
 ],
 "metadata": {
  "kernelspec": {
   "display_name": "Python 3 (ipykernel)",
   "language": "python",
   "name": "python3"
  },
  "language_info": {
   "codemirror_mode": {
    "name": "ipython",
    "version": 3
   },
   "file_extension": ".py",
   "mimetype": "text/x-python",
   "name": "python",
   "nbconvert_exporter": "python",
   "pygments_lexer": "ipython3",
   "version": "3.12.3"
  },
  "latex_envs": {
   "LaTeX_envs_menu_present": true,
   "autoclose": false,
   "autocomplete": true,
   "bibliofile": "biblio.bib",
   "cite_by": "apalike",
   "current_citInitial": 1,
   "eqLabelWithNumbers": true,
   "eqNumInitial": 1,
   "hotkeys": {
    "equation": "Ctrl-E",
    "itemize": "Ctrl-I"
   },
   "labels_anchors": false,
   "latex_user_defs": false,
   "report_style_numbering": false,
   "user_envs_cfg": false
  },
  "nteract": {
   "version": "0.28.0"
  },
  "toc": {
   "base_numbering": 1,
   "nav_menu": {},
   "number_sections": true,
   "sideBar": true,
   "skip_h1_title": false,
   "title_cell": "Table of Contents",
   "title_sidebar": "Contents",
   "toc_cell": false,
   "toc_position": {},
   "toc_section_display": true,
   "toc_window_display": false
  }
 },
 "nbformat": 4,
 "nbformat_minor": 4
}
